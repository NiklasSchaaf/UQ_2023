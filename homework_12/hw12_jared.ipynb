{
 "cells": [
  {
   "cell_type": "markdown",
   "metadata": {},
   "source": [
    "# HDMR/Sobol Expansion Terms\n",
    "\n",
    "Given a function $f : [0, 1]^d \\rightarrow \\mathbb{R}$ where $d = 3$\n",
    "\n",
    "$$\n",
    "f(\\vec{Z}) = Z_1 + Z_2^2 + Z_1 Z_2 + Z_2 Z_3^2,\n",
    "$$\n",
    "\n",
    "and $Z_i \\sim \\mathcal{U}[0, 1]\\ \\forall i \\in \\{1, 2, 3 \\}$, show\n",
    "the Sobol representation of this function. \n",
    "\n",
    "The general Sobol representation is given by \n",
    "\n",
    "$$\n",
    "\\begin{aligned}\n",
    "f_0 &= \\int_\\Gamma f(z)\\ dz, \\\\\n",
    "f_i(z_i) &= \\int_{\\Gamma^{d-1}} f(z)\\ dz_{\\sim i} - f_0, \\\\\n",
    "f_{ij}(z_i, z_j) &= \\int_{\\Gamma^{d-2}} f(z)\\ dz_{\\sim ij} - f_i(z_i) - f_j(z_j) - f_0.\n",
    "\\end{aligned}\n",
    "$$\n",
    "\n",
    "on the domain $\\Gamma$, in this case $\\Gamma = [0, 1]^3$ and the notation $\\{\\sim i\\}$\n",
    "denotes all indices **except** $i$. \n",
    "\n",
    "Then the Sobol representation for our problem is \n",
    "\n",
    "$$\n",
    "\\begin{aligned}\n",
    "f_0 &= \\int_0^1 \\int_0^1 \\int_0^1 f(z)\\ dz, && \\text{(1)} \\\\\n",
    "f_1(z_1) &= \\int_0^1 \\int_0^1 f(z)\\ dz_2\\ dz_3 - f_0, && \\text{(2)} \\\\\n",
    "f_2(z_2) &= \\int_0^1 \\int_0^1 f(z)\\ dz_1\\ dz_3 - f_0, && \\text{(3)} \\\\\n",
    "f_3(z_3) &= \\int_0^1 \\int_0^1 f(z)\\ dz_1\\ dz_2 - f_0, && \\text{(4)} \\\\\n",
    "f_{12}(z_1, z_2) &= \\int_0^1 f(z)\\ dz_3 - f_1(z_1) - f_2(z_2) - f_0, && \\text{(5)}\\\\\n",
    "f_{13}(z_1, z_3) &= \\int_0^1 f(z)\\ dz_2 - f_1(z_1) - f_3(z_3) - f_0, && \\text{(6)} \\\\\n",
    "f_{23}(z_2, z_3) &= \\int_0^1 f(z)\\ dz_1 - f_2(z_2) - f_3(z_3) - f_0. && \\text{(7)}\n",
    "\\end{aligned}\n",
    "$$\n",
    "\n",
    "Here's some tedious solutions to the integrals:\n",
    "\n",
    "$$\n",
    "\\begin{aligned}\n",
    "f_0 &= \\int_{Z_3 = 0}^1 \\int_{Z_2 = 0}^1 \\int_{Z_1 = 0}^1 z_1 + z_2^2 + z_1 z_2 + z_2 z_3^2\\ dz_1\\ dz_2\\ dz_3 \\\\\n",
    "    &= \\int_{Z_3 = 0}^1 \\int_{Z_2 = 0}^1 \\left[ \\frac{z_1^2}{2} + z_1 z_2^2 + \\frac{z_1^2}{2} z_2 + z_1 z_2 z_3^2\\right]_0^1 \\ dz_2\\ dz_3 \\\\\n",
    "    &= \\int_{Z_3 = 0}^1 \\int_{Z_2 = 0}^1 \\frac{1}{2} + z_2^2 + \\frac{1}{2} z_2 + z_2 z_3^2 \\ dz_2\\ dz_3 \\\\\n",
    "     &= \\int_{Z_3 = 0}^1 \\left[ \\frac{z_2}{2} + \\frac{z_2^3}{3} + \\frac{z_2^2}{4} + \\frac{z_2^2}{2} z_3^2\\right]_0^1 \\ dz_3 \\\\\n",
    "     &= \\int_{Z_3 = 0}^1 \\frac{1}{2} + \\frac{1}{3} + \\frac{1}{4} + \\frac{1}{2} z_3^2 \\ dz_3 \\\\\n",
    "     &= \\left[ \\frac{z_3}{2} + \\frac{z_3}{3} + \\frac{z_3}{4} + \\frac{z_3^3}{6} \\right]_0^1 \\\\\n",
    "     &=  \\frac{1}{2} + \\frac{1}{3} + \\frac{1}{4} + \\frac{1}{6} \\\\\n",
    "     &= \\frac{5}{4}\n",
    "\\end{aligned}\n",
    "$$\n",
    "\n",
    "we all can integrate, so I just use mathematica to compute the remaining integrals (since i'm lazy)."
   ]
  },
  {
   "cell_type": "code",
   "execution_count": 32,
   "metadata": {},
   "outputs": [],
   "source": [
    "from typing import Callable, Tuple\n",
    "\n",
    "from numpy import ndarray\n",
    "import numpy as np "
   ]
  },
  {
   "cell_type": "code",
   "execution_count": 54,
   "metadata": {},
   "outputs": [],
   "source": [
    "# Various function definitions from solving integrals\n",
    "def f(Z):\n",
    "    z1, z2, z3 = Z \n",
    "    return z1 + z2**2 +z1*z2 + z2*z3**2\n",
    "\n",
    "def f0(Z):\n",
    "    return 5/4 \n",
    "\n",
    "def f1(Z):\n",
    "    z1, z2, z3 = Z \n",
    "    return -3/4 + (3/2)*z1\n",
    "\n",
    "def f2(Z):\n",
    "    z1, z2, z3 = Z \n",
    "    return -5/4 + z2/3 + z2**2 + (1 + z2)/2 \n",
    "\n",
    "def f3(Z):\n",
    "    z1, z2, z3 = Z \n",
    "    return -5/12 + (1/2)*((1/2) + z3**2)\n",
    "\n",
    "def f12(Z):\n",
    "    z1, z2, z3 = Z \n",
    "    return 3/4 - z1/2 + (1/2)*(-1 - z2) + z1*z2 \n",
    "\n",
    "def f13(Z):\n",
    "    z1, z2, z3 = Z \n",
    "    return 1/4 - z1/2 + (1/2)*(-(1/2) - z3**2) + (1/2)*(z1 + z3**2)\n",
    "\n",
    "def f23(Z):\n",
    "    z1, z2, z3 = Z \n",
    "    return 5/12 + (1/2)*(-1 - z2) - z2/3 + (1 + z2)/2 + z2*z3**2 \\\n",
    "        + (1/2)*(-(1/2) - z3**2)\n",
    "\n",
    "def monte_carlo_sampling(\n",
    "        f: Callable, size: Tuple[int, int] = (3, ), \n",
    "        repeat: int = 100, n_samples: int = 1000) -> ndarray:\n",
    "    f_repeat = []\n",
    "    for _ in range(repeat):\n",
    "        f_samples = []\n",
    "        for _ in range(n_samples):\n",
    "            Z = np.random.uniform(size=size)\n",
    "            f_sample = f(Z)\n",
    "            f_samples.append(f_sample)\n",
    "        f_repeat.append(f_samples)\n",
    "    return np.array(f_repeat)\n",
    "\n",
    "def get_mc_var_mean_std(mc: ndarray) -> Tuple[float, float]:\n",
    "    var = np.var(mc, axis=1)\n",
    "    mean = np.mean(var)\n",
    "    std = np.std(var)\n",
    "    return mean, std "
   ]
  },
  {
   "cell_type": "code",
   "execution_count": 46,
   "metadata": {},
   "outputs": [],
   "source": [
    "# Compute variances of expansion terms\n",
    "f_repeat = monte_carlo_sampling(f) # D\n",
    "f1_repeat = monte_carlo_sampling(f1) # D_i ...\n",
    "f2_repeat = monte_carlo_sampling(f2)\n",
    "f3_repeat = monte_carlo_sampling(f3)\n",
    "f12_repeat = monte_carlo_sampling(f12) # D_ij ...\n",
    "f13_repeat = monte_carlo_sampling(f13)\n",
    "f23_repeat = monte_carlo_sampling(f23)"
   ]
  },
  {
   "cell_type": "code",
   "execution_count": 59,
   "metadata": {},
   "outputs": [
    {
     "name": "stdout",
     "output_type": "stream",
     "text": [
      "0.5115 +/- 0.0196\n",
      "0.1864 +/- 0.0051\n",
      "0.2852 +/- 0.0084\n",
      "0.0222 +/- 0.0008\n",
      "0.0069 +/- 0.0003\n",
      "0.0000 +/- 0.0000\n",
      "0.0074 +/- 0.0004\n"
     ]
    }
   ],
   "source": [
    "# You can check the mathematica notebook to verify that these agree\n",
    "# with the exact integral\n",
    "D_mean, D_std = get_mc_var_mean_std(f_repeat)\n",
    "D1_mean, D1_std = get_mc_var_mean_std(f1_repeat)\n",
    "D2_mean, D2_std = get_mc_var_mean_std(f2_repeat)\n",
    "D3_mean, D3_std = get_mc_var_mean_std(f3_repeat)\n",
    "D12_mean, D12_std = get_mc_var_mean_std(f12_repeat)\n",
    "D13_mean, D13_std = get_mc_var_mean_std(f13_repeat)\n",
    "D23_mean, D23_std = get_mc_var_mean_std(f23_repeat)\n",
    "\n",
    "print_mean_std = lambda mean, std: print(\"%.4f +/- %.4f\" % (mean, std))\n",
    "\n",
    "print_mean_std(D_mean, D_std)\n",
    "\n",
    "print_mean_std(D1_mean, D1_std)\n",
    "print_mean_std(D2_mean, D2_std)\n",
    "print_mean_std(D3_mean, D3_std)\n",
    "\n",
    "print_mean_std(D12_mean, D12_std)\n",
    "print_mean_std(D13_mean, D13_std)\n",
    "print_mean_std(D23_mean, D23_std)"
   ]
  },
  {
   "cell_type": "code",
   "execution_count": 61,
   "metadata": {},
   "outputs": [
    {
     "name": "stdout",
     "output_type": "stream",
     "text": [
      "0.3644134438325231\n",
      "0.5576185146535788\n",
      "0.043455224120648325\n",
      "0.013536872531943692\n",
      "2.3441422159366305e-33\n",
      "0.014456158042735714\n"
     ]
    }
   ],
   "source": [
    "# Compute sobol indices\n",
    "sobol = lambda D_ids, D: D_ids/D \n",
    "print(sobol(D1_mean, D_mean))\n",
    "print(sobol(D2_mean, D_mean))\n",
    "print(sobol(D3_mean, D_mean))\n",
    "print(sobol(D12_mean, D_mean))\n",
    "print(sobol(D13_mean, D_mean))\n",
    "print(sobol(D23_mean, D_mean))"
   ]
  },
  {
   "cell_type": "code",
   "execution_count": null,
   "metadata": {},
   "outputs": [],
   "source": []
  }
 ],
 "metadata": {
  "kernelspec": {
   "display_name": "fem",
   "language": "python",
   "name": "python3"
  },
  "language_info": {
   "codemirror_mode": {
    "name": "ipython",
    "version": 3
   },
   "file_extension": ".py",
   "mimetype": "text/x-python",
   "name": "python",
   "nbconvert_exporter": "python",
   "pygments_lexer": "ipython3",
   "version": "3.11.5"
  }
 },
 "nbformat": 4,
 "nbformat_minor": 2
}
