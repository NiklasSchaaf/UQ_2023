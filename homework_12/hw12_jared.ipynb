{
 "cells": [
  {
   "cell_type": "markdown",
   "metadata": {},
   "source": [
    "# HDMR/Sobol Expansion Terms\n",
    "## Definitions\n",
    "\n",
    "Given a function $f : [0, 1]^d \\rightarrow \\mathbb{R}$ where $d = 3$\n",
    "\n",
    "$$\n",
    "f(\\vec{Z}) = Z_1 + Z_2^2 + Z_1 Z_2 + Z_2 Z_3^2,\n",
    "$$\n",
    "\n",
    "and $Z_i \\sim \\mathcal{U}[0, 1]\\ \\forall i \\in \\{1, 2, 3 \\}$, show\n",
    "the Sobol representation of this function. \n",
    "\n",
    "The general Sobol representation is given by \n",
    "\n",
    "$$\n",
    "\\begin{aligned}\n",
    "f_0 &= \\int_\\Gamma f(z)\\ dz \\\\\n",
    "f_i(z_i) &= \\int_{\\Gamma^{d-1}} f(z)\\ dz_{\\sim i} - f_0 \\\\\n",
    "f_{ij}(z_i, z_j) &= \\int_{\\Gamma^{d-2}} f(z)\\ dz_{\\sim ij} - f_i(z_i) - f_j(z_j) - f_0\n",
    "\\end{aligned}\n",
    "$$\n",
    "\n",
    "on the domain $\\Gamma$, in this case $\\Gamma = [0, 1]^3$ and the notation $\\{\\sim i\\}$\n",
    "denotes all indices **except** i. \n",
    "\n",
    "Then the Sobol representation for our problem is \n",
    "\n",
    "$$\n",
    "\\begin{aligned}\n",
    "f_0(z_0) &= \\int_0^1 \\int_0^1 \\int_0^1 f(z)\\ dz, \\\\\n",
    "f_1(z_1) &= \\int_0^1 \\int_0^1 f(z)\\ dz_2\\ dz_3 - f_0, \\\\\n",
    "f_2(z_2) &= \\int_0^1 \\int_0^1 f(z)\\ dz_1\\ dz_3 - f_0, \\\\\n",
    "f_3(z_3) &= \\int_0^1 \\int_0^1 f(z)\\ dz_1\\ dz_2 - f_0, \\\\\n",
    "f_{12}(z_1, z_2) &= \\int_0^1 f(z)\\ dz_3 - f_1(z_1) - f_2(z_2) - f_0 \\\\\n",
    "f_{13}(z_1, z_3) &= \\int_0^1 f(z)\\ dz_2 - f_1(z_1) - f_3(z_3) - f_0 \\\\\n",
    "f_{23}(z_2, z_3) &= \\int_0^1 f(z)\\ dz_1 - f_2(z_2) - f_3(z_3) - f_0\n",
    "\\end{aligned}\n",
    "$$\n"
   ]
  },
  {
   "cell_type": "code",
   "execution_count": null,
   "metadata": {},
   "outputs": [],
   "source": []
  }
 ],
 "metadata": {
  "kernelspec": {
   "display_name": "fem",
   "language": "python",
   "name": "python3"
  },
  "language_info": {
   "name": "python",
   "version": "3.11.5"
  }
 },
 "nbformat": 4,
 "nbformat_minor": 2
}
