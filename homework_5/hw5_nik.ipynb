{
 "cells": [
  {
   "cell_type": "code",
   "execution_count": 1,
   "metadata": {},
   "outputs": [],
   "source": [
    "import numpy as np\n",
    "import matplotlib.pyplot as plt\n",
    "from scipy.integrate import solve_ivp\n",
    "from scipy.special import factorial, hermitenorm\n",
    "from numba import njit"
   ]
  },
  {
   "cell_type": "code",
   "execution_count": 21,
   "metadata": {},
   "outputs": [],
   "source": [
    "@njit\n",
    "def ode(u, t, a=1):\n",
    "    return -0.5 * u**2 + (a+1) * u\n",
    "\n",
    "@njit\n",
    "def ode_book(u,t, a=1):\n",
    "    return -a*u\n",
    "\n",
    "@njit\n",
    "def fact(x):\n",
    "    '''\n",
    "    calculates factorial\n",
    "\n",
    "    Arguments:\n",
    "        x -- integer\n",
    "\n",
    "    Returns:\n",
    "        x!\n",
    "    '''\n",
    "    factors = np.arange(1,x+1)\n",
    "    y = 1\n",
    "    for i in range(x):\n",
    "        y = y * factors[i]\n",
    "    return y\n",
    "\n",
    "@njit\n",
    "def e_ijk(i,j,k):\n",
    "    s = np.ceil((i+j+k)/2)\n",
    "    return (fact(i)*fact(j)*fact(k)) / (fact(s-i)*fact(s-j)*fact(s-k))\n",
    "\n",
    "@njit\n",
    "def get_A(N, mu, sigma):\n",
    "    A = np.zeros((N,N))\n",
    "    a = np.array([mu, sigma])\n",
    "\n",
    "    for j in range(N):\n",
    "        for k in range(N):\n",
    "            Ajk = 0\n",
    "            for i, ai in enumerate(a):\n",
    "                Ajk += ai * e_ijk(i,j,k)\n",
    "            A[j,k] = -1/fact(k) * Ajk\n",
    "    \n",
    "    return A\n",
    "\n",
    "@njit\n",
    "def get_A_book(N, mu, sigma):\n",
    "    A = np.zeros((N,N))\n",
    "    a = np.array([mu, sigma])\n",
    "\n",
    "    for j in range(N):\n",
    "        for k in range(N):\n",
    "            Ajk = 0\n",
    "            for i, ai in enumerate(a):\n",
    "                Ajk += ai * e_ijk(i,j,k)\n",
    "            A[j,k] = -1/fact(k) * Ajk\n",
    "    return A\n",
    "\n",
    "@njit\n",
    "def get_b(N, betha):\n",
    "    b = np.zeros(N)\n",
    "    b[0] = betha\n",
    "    return b\n",
    "\n",
    "def approximation_book(N, mu, sigma, betha):\n",
    "    A = get_A(N,mu,sigma)\n",
    "    b = get_b(N,betha)\n",
    "    vhat = np.linalg.solve(A.T,b)\n",
    "    \n",
    "    approx = 0\n",
    "    for i in range(N):\n",
    "        approx += vhat[i] * hermitenorm(i)\n",
    "    return approx\n"
   ]
  },
  {
   "cell_type": "code",
   "execution_count": 22,
   "metadata": {},
   "outputs": [],
   "source": [
    "u0 = 0.1 # initial condition"
   ]
  },
  {
   "cell_type": "code",
   "execution_count": 23,
   "metadata": {},
   "outputs": [],
   "source": [
    "N = 10000\n",
    "dudt2s = np.zeros(N)\n",
    "for i in range(N):\n",
    "    a = np.random.normal(0,1)\n",
    "    dudt2s[i] = solve_ivp(ode_book, (0,2), [u0], args = (a,)).y[0,-1]"
   ]
  },
  {
   "cell_type": "code",
   "execution_count": 24,
   "metadata": {},
   "outputs": [
    {
     "name": "stdout",
     "output_type": "stream",
     "text": [
      "0.06430263188235995\n",
      "3.9927942656197675\n"
     ]
    }
   ],
   "source": [
    "print(np.mean(dudt2s))\n",
    "print(np.var(dudt2s))"
   ]
  },
  {
   "cell_type": "code",
   "execution_count": 25,
   "metadata": {},
   "outputs": [],
   "source": [
    "A = get_A_book(3,0,1)"
   ]
  },
  {
   "cell_type": "code",
   "execution_count": 26,
   "metadata": {},
   "outputs": [],
   "source": [
    "b = get_b(3,0.1)"
   ]
  },
  {
   "cell_type": "code",
   "execution_count": 27,
   "metadata": {},
   "outputs": [
    {
     "data": {
      "text/plain": [
       "array([-0.2, -0. ,  0.1])"
      ]
     },
     "execution_count": 27,
     "metadata": {},
     "output_type": "execute_result"
    }
   ],
   "source": [
    "np.linalg.solve(A.T,b)"
   ]
  },
  {
   "cell_type": "code",
   "execution_count": 28,
   "metadata": {},
   "outputs": [
    {
     "ename": "ValueError",
     "evalue": "non-broadcastable output operand with shape (1,) doesn't match the broadcast shape (2,)",
     "output_type": "error",
     "traceback": [
      "\u001b[0;31m---------------------------------------------------------------------------\u001b[0m",
      "\u001b[0;31mValueError\u001b[0m                                Traceback (most recent call last)",
      "\u001b[1;32m/Users/nik/Library/CloudStorage/OneDrive-Personal/MSc_CLS/uncertainty_quantification/homework/homework_5/hw5_nik.ipynb Cell 9\u001b[0m line \u001b[0;36m1\n\u001b[0;32m----> <a href='vscode-notebook-cell:/Users/nik/Library/CloudStorage/OneDrive-Personal/MSc_CLS/uncertainty_quantification/homework/homework_5/hw5_nik.ipynb#X21sZmlsZQ%3D%3D?line=0'>1</a>\u001b[0m approx \u001b[39m=\u001b[39m approximation_book(\u001b[39m10\u001b[39;49m,\u001b[39m0\u001b[39;49m,\u001b[39m1\u001b[39;49m,\u001b[39m0.5\u001b[39;49m)\n",
      "\u001b[1;32m/Users/nik/Library/CloudStorage/OneDrive-Personal/MSc_CLS/uncertainty_quantification/homework/homework_5/hw5_nik.ipynb Cell 9\u001b[0m line \u001b[0;36m7\n\u001b[1;32m     <a href='vscode-notebook-cell:/Users/nik/Library/CloudStorage/OneDrive-Personal/MSc_CLS/uncertainty_quantification/homework/homework_5/hw5_nik.ipynb#X21sZmlsZQ%3D%3D?line=68'>69</a>\u001b[0m approx \u001b[39m=\u001b[39m \u001b[39m0\u001b[39m\n\u001b[1;32m     <a href='vscode-notebook-cell:/Users/nik/Library/CloudStorage/OneDrive-Personal/MSc_CLS/uncertainty_quantification/homework/homework_5/hw5_nik.ipynb#X21sZmlsZQ%3D%3D?line=69'>70</a>\u001b[0m \u001b[39mfor\u001b[39;00m i \u001b[39min\u001b[39;00m \u001b[39mrange\u001b[39m(N):\n\u001b[0;32m---> <a href='vscode-notebook-cell:/Users/nik/Library/CloudStorage/OneDrive-Personal/MSc_CLS/uncertainty_quantification/homework/homework_5/hw5_nik.ipynb#X21sZmlsZQ%3D%3D?line=70'>71</a>\u001b[0m     approx \u001b[39m+\u001b[39m\u001b[39m=\u001b[39m vhat[i] \u001b[39m*\u001b[39m hermitenorm(i)\n\u001b[1;32m     <a href='vscode-notebook-cell:/Users/nik/Library/CloudStorage/OneDrive-Personal/MSc_CLS/uncertainty_quantification/homework/homework_5/hw5_nik.ipynb#X21sZmlsZQ%3D%3D?line=71'>72</a>\u001b[0m \u001b[39mreturn\u001b[39;00m approx\n",
      "\u001b[0;31mValueError\u001b[0m: non-broadcastable output operand with shape (1,) doesn't match the broadcast shape (2,)"
     ]
    }
   ],
   "source": [
    "approx = approximation_book(10,0,1,0.5)"
   ]
  },
  {
   "cell_type": "code",
   "execution_count": 20,
   "metadata": {},
   "outputs": [
    {
     "data": {
      "text/plain": [
       "-1.5"
      ]
     },
     "execution_count": 20,
     "metadata": {},
     "output_type": "execute_result"
    }
   ],
   "source": [
    "approx"
   ]
  },
  {
   "cell_type": "code",
   "execution_count": null,
   "metadata": {},
   "outputs": [],
   "source": []
  }
 ],
 "metadata": {
  "kernelspec": {
   "display_name": "IntroCLS",
   "language": "python",
   "name": "python3"
  },
  "language_info": {
   "codemirror_mode": {
    "name": "ipython",
    "version": 3
   },
   "file_extension": ".py",
   "mimetype": "text/x-python",
   "name": "python",
   "nbconvert_exporter": "python",
   "pygments_lexer": "ipython3",
   "version": "3.10.8"
  }
 },
 "nbformat": 4,
 "nbformat_minor": 2
}
