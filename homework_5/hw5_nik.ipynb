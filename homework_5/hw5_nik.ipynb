{
 "cells": [
  {
   "cell_type": "code",
   "execution_count": 1,
   "metadata": {},
   "outputs": [],
   "source": [
    "import numpy as np\n",
    "import matplotlib.pyplot as plt\n",
    "from scipy.integrate import solve_ivp\n",
    "from scipy.special import hermitenorm\n",
    "from numba import njit\n",
    "from math import factorial"
   ]
  },
  {
   "cell_type": "code",
   "execution_count": 37,
   "metadata": {},
   "outputs": [],
   "source": [
    "@njit\n",
    "def ode_hw(u, t, a=1):\n",
    "    return -0.5 * u**2 + (a+1) * u\n",
    "\n",
    "@njit\n",
    "def ode_book(u,t, a=1):\n",
    "    return -a*u\n",
    "\n",
    "@njit\n",
    "def fact(x):\n",
    "    '''\n",
    "    calculates factorial faster than scipy\n",
    "\n",
    "    Arguments:\n",
    "        x -- integer\n",
    "\n",
    "    Returns:\n",
    "        x!\n",
    "    '''\n",
    "    factors = np.arange(1,x+1)\n",
    "    y = 1\n",
    "    for i in range(x):\n",
    "        y = y * factors[i]\n",
    "    return y\n",
    "\n",
    "# @njit\n",
    "def e_ijk(i,j,k):\n",
    "    s = (i+j+k) // 2\n",
    "    if i+j+k == 2 * s and np.all(s >= np.array([i,j,k])):\n",
    "        return (fact(i)*fact(j)*fact(k)) / (fact(s-i)*fact(s-j)*fact(s-k))\n",
    "        #return (factorial(i)*factorial(j)*factorial(k)) / (factorial(s-i)*factorial(s-j)*factorial(s-k))\n",
    "    else:\n",
    "        return 0\n",
    "\n",
    "@njit\n",
    "def get_A(N, mu, sigma):\n",
    "    A = np.zeros((N,N))\n",
    "    a = np.array([mu, sigma])\n",
    "\n",
    "    for k in range(N):\n",
    "        for j in range(N):\n",
    "            Ajk = 0\n",
    "            for i, ai in enumerate(a):\n",
    "                Ajk += ai * e_ijk(i,j,k)\n",
    "            A[j,k] = -1/fact(k) * Ajk\n",
    "    \n",
    "    return A\n",
    "\n",
    "# @njit\n",
    "def get_A_book(N, mu, sigma):\n",
    "    A = np.zeros((N,N))\n",
    "    a = np.array([mu, sigma])\n",
    "\n",
    "    for j in range(N):\n",
    "        for k in range(N):\n",
    "            Ajk = 0\n",
    "            for i, ai in enumerate(a):\n",
    "                Ajk += ai * e_ijk(i,j,k)\n",
    "            A[j,k] = -1/fact(k) * Ajk\n",
    "    return A\n",
    "\n",
    "@njit\n",
    "def get_b_book(N, betha):\n",
    "    b = np.zeros(N)\n",
    "    b[0] = betha\n",
    "    return b\n",
    "\n",
    "@njit\n",
    "def get_vhats_book(N, mu, sigma, betha):\n",
    "    A = get_A_book(N,mu,sigma)\n",
    "    b = get_b_book(N,betha)\n",
    "    vhats = np.linalg.solve(A.T,b)\n",
    "\n",
    "    return vhats\n",
    "\n",
    "def approx_book(t, vhats):\n",
    "    u = 0\n",
    "    for i, vhat in enumerate(vhats):\n",
    "        u += vhat * hermitenorm(i)(t)\n",
    "    return u\n",
    "\n",
    "def euler_step_book(v,A,dt):\n",
    "    return v + dt * np.dot(A.T,v)\n",
    "\n",
    "@njit\n",
    "def euler_step_ode_book(u,a,dt):\n",
    "    return u + dt * ode_book(u, 0, a)\n",
    "\n",
    "@njit\n",
    "def euler_int_book(u0,steps,dt):\n",
    "    ut = np.zeros(steps+1)\n",
    "\n",
    "    a = np.random.normal(0,1)\n",
    "    ut[0] = u0\n",
    "    for i in range(steps):\n",
    "        ut[i+1] = ut[i] +  dt * ode_book(ut[i], 0, a)\n",
    "    return ut\n"
   ]
  },
  {
   "cell_type": "code",
   "execution_count": 38,
   "metadata": {},
   "outputs": [
    {
     "data": {
      "text/plain": [
       "True"
      ]
     },
     "execution_count": 38,
     "metadata": {},
     "output_type": "execute_result"
    }
   ],
   "source": [
    "x = 20\n",
    "factorial(x) == fact(x)"
   ]
  },
  {
   "cell_type": "code",
   "execution_count": 39,
   "metadata": {},
   "outputs": [
    {
     "name": "stdout",
     "output_type": "stream",
     "text": [
      "2432902008176640000\n",
      "2432902008176640000\n"
     ]
    }
   ],
   "source": [
    "print(fact(x))\n",
    "print(factorial(x))"
   ]
  },
  {
   "cell_type": "code",
   "execution_count": 40,
   "metadata": {},
   "outputs": [],
   "source": [
    "dt =  0.001\n",
    "u0 = 0.1\n",
    "steps = 3000\n",
    "ut = euler_int_book(u0,steps,dt)\n"
   ]
  },
  {
   "cell_type": "code",
   "execution_count": 41,
   "metadata": {},
   "outputs": [],
   "source": [
    "N = 100000\n",
    "u2s = np.zeros(N)\n",
    "for i in range(N):\n",
    "    u2s[i] = euler_int_book(u0,steps,dt)[-1]"
   ]
  },
  {
   "cell_type": "code",
   "execution_count": 42,
   "metadata": {},
   "outputs": [],
   "source": [
    "u0 = 0.1 # initial condition\n",
    "mu = 0\n",
    "sigma = 1\n",
    "deg = 2+1"
   ]
  },
  {
   "cell_type": "code",
   "execution_count": 43,
   "metadata": {},
   "outputs": [
    {
     "data": {
      "text/plain": [
       "array([[-0., -1., -0.],\n",
       "       [-1., -0., -1.],\n",
       "       [-0., -2., -0.]])"
      ]
     },
     "execution_count": 43,
     "metadata": {},
     "output_type": "execute_result"
    }
   ],
   "source": [
    "get_A_book(deg, mu, sigma)"
   ]
  },
  {
   "cell_type": "code",
   "execution_count": 44,
   "metadata": {},
   "outputs": [
    {
     "data": {
      "text/plain": [
       "array([0.1, 0. , 0. ])"
      ]
     },
     "execution_count": 44,
     "metadata": {},
     "output_type": "execute_result"
    }
   ],
   "source": [
    "get_b_book(deg,u0)"
   ]
  },
  {
   "cell_type": "code",
   "execution_count": 45,
   "metadata": {},
   "outputs": [
    {
     "data": {
      "text/plain": [
       "0"
      ]
     },
     "execution_count": 45,
     "metadata": {},
     "output_type": "execute_result"
    }
   ],
   "source": [
    "e_ijk(4,1,1)"
   ]
  },
  {
   "cell_type": "code",
   "execution_count": 46,
   "metadata": {},
   "outputs": [],
   "source": [
    "sol = np.zeros(steps+1)\n",
    "A = get_A_book(deg, mu, sigma)\n",
    "v = get_b_book(deg, u0)\n",
    "sol[0] = v[0]\n",
    "for i in range(steps):\n",
    "    v = euler_step_book(v,A,dt)\n",
    "    sol[i+1] = v[0]"
   ]
  },
  {
   "cell_type": "code",
   "execution_count": 47,
   "metadata": {},
   "outputs": [
    {
     "data": {
      "text/plain": [
       "<matplotlib.collections.PathCollection at 0x144cca680>"
      ]
     },
     "execution_count": 47,
     "metadata": {},
     "output_type": "execute_result"
    },
    {
     "data": {
      "image/png": "[encoded data removed]",
      "text/plain": [
       "<Figure size 640x480 with 1 Axes>"
      ]
     },
     "metadata": {},
     "output_type": "display_data"
    }
   ],
   "source": [
    "plt.plot(sol)\n",
    "plt.scatter(3000,np.mean(u2s))"
   ]
  },
  {
   "cell_type": "code",
   "execution_count": 11,
   "metadata": {},
   "outputs": [],
   "source": [
    "@njit\n",
    "def vhats_proj(v, a, deg):\n",
    "    N = len(v)\n",
    "    vhat = np.zeros(N)\n",
    "    for i in range(N):\n",
    "        vi = v[i]\n",
    "        for j in range(N):\n",
    "            vj = v[j]\n",
    "            if j <= len(a)-1:\n",
    "                aj = a[j]\n",
    "            else:\n",
    "                aj = 0\n",
    "            for k in range(deg):\n",
    "                eijk = e_ijk(i,j,k)\n",
    "                vhat[i] += 1/fact(k) (-0.5 * vi**2 + aj * vi) * eijk\n",
    "    return vhat\n",
    "\n",
    "def proj_hw(v,t,a,deg):\n",
    "    vhats = vhats_proj(v,a,deg)\n",
    "    return approx_book(t, vhats)\n",
    "\n",
    "def proj_hw_min(v,a,deg,dt):\n",
    "    vhats = vhats_proj(v,a,deg)\n",
    "\n",
    "    diff = ((approx_book(1+dt,v)-approx_book(1,v)/dt)-approx_book(1,vhats))**2 + (approx_book(0,v)-0.1)**2\n",
    "    return diff\n",
    "\n",
    "\n",
    "# def new_odes_hw(v,t,a,deg):\n"
   ]
  },
  {
   "cell_type": "code",
   "execution_count": 12,
   "metadata": {},
   "outputs": [],
   "source": [
    "from scipy.optimize import minimize"
   ]
  },
  {
   "cell_type": "code",
   "execution_count": 13,
   "metadata": {},
   "outputs": [
    {
     "ename": "TypingError",
     "evalue": "Failed in nopython mode pipeline (step: nopython frontend)\nInvalid use of int64 with parameters (float64)\nNo type info available for int64 as a callable.\nDuring: resolving callee type: int64\nDuring: typing of call at /var/folders/98/yrk0x6wx2l9ckf4wfg4vr1z00000gn/T/ipykernel_18986/3912245448.py (15)\n\n\nFile \"../../../../../../../../../var/folders/98/yrk0x6wx2l9ckf4wfg4vr1z00000gn/T/ipykernel_18986/3912245448.py\", line 15:\n<source missing, REPL/exec in use?>\n",
     "output_type": "error",
     "traceback": [
      "\u001b[0;31m---------------------------------------------------------------------------\u001b[0m",
      "\u001b[0;31mTypingError\u001b[0m                               Traceback (most recent call last)",
      "\u001b[1;32m/Users/nik/Library/CloudStorage/OneDrive-Personal/MSc_CLS/uncertainty_quantification/homework/homework_5/hw5_nik.ipynb Cell 13\u001b[0m line \u001b[0;36m1\n\u001b[0;32m----> <a href='vscode-notebook-cell:/Users/nik/Library/CloudStorage/OneDrive-Personal/MSc_CLS/uncertainty_quantification/homework/homework_5/hw5_nik.ipynb#X15sZmlsZQ%3D%3D?line=0'>1</a>\u001b[0m vhats_2 \u001b[39m=\u001b[39m minimize(proj_hw_min, np\u001b[39m.\u001b[39;49marray([\u001b[39m0\u001b[39;49m,\u001b[39m0\u001b[39;49m,\u001b[39m0\u001b[39;49m]), args\u001b[39m=\u001b[39;49m (np\u001b[39m.\u001b[39;49marray([\u001b[39m0\u001b[39;49m, \u001b[39m1\u001b[39;49m]), \u001b[39m3\u001b[39;49m, \u001b[39m0.1\u001b[39;49m))\u001b[39m.\u001b[39mx\n",
      "File \u001b[0;32m~/opt/miniconda3/envs/IntroCLS/lib/python3.10/site-packages/scipy/optimize/_minimize.py:694\u001b[0m, in \u001b[0;36mminimize\u001b[0;34m(fun, x0, args, method, jac, hess, hessp, bounds, constraints, tol, callback, options)\u001b[0m\n\u001b[1;32m    692\u001b[0m     res \u001b[39m=\u001b[39m _minimize_cg(fun, x0, args, jac, callback, \u001b[39m*\u001b[39m\u001b[39m*\u001b[39moptions)\n\u001b[1;32m    693\u001b[0m \u001b[39melif\u001b[39;00m meth \u001b[39m==\u001b[39m \u001b[39m'\u001b[39m\u001b[39mbfgs\u001b[39m\u001b[39m'\u001b[39m:\n\u001b[0;32m--> 694\u001b[0m     res \u001b[39m=\u001b[39m _minimize_bfgs(fun, x0, args, jac, callback, \u001b[39m*\u001b[39;49m\u001b[39m*\u001b[39;49moptions)\n\u001b[1;32m    695\u001b[0m \u001b[39melif\u001b[39;00m meth \u001b[39m==\u001b[39m \u001b[39m'\u001b[39m\u001b[39mnewton-cg\u001b[39m\u001b[39m'\u001b[39m:\n\u001b[1;32m    696\u001b[0m     res \u001b[39m=\u001b[39m _minimize_newtoncg(fun, x0, args, jac, hess, hessp, callback,\n\u001b[1;32m    697\u001b[0m                              \u001b[39m*\u001b[39m\u001b[39m*\u001b[39moptions)\n",
      "File \u001b[0;32m~/opt/miniconda3/envs/IntroCLS/lib/python3.10/site-packages/scipy/optimize/_optimize.py:1283\u001b[0m, in \u001b[0;36m_minimize_bfgs\u001b[0;34m(fun, x0, args, jac, callback, gtol, norm, eps, maxiter, disp, return_all, finite_diff_rel_step, **unknown_options)\u001b[0m\n\u001b[1;32m   1280\u001b[0m \u001b[39mif\u001b[39;00m maxiter \u001b[39mis\u001b[39;00m \u001b[39mNone\u001b[39;00m:\n\u001b[1;32m   1281\u001b[0m     maxiter \u001b[39m=\u001b[39m \u001b[39mlen\u001b[39m(x0) \u001b[39m*\u001b[39m \u001b[39m200\u001b[39m\n\u001b[0;32m-> 1283\u001b[0m sf \u001b[39m=\u001b[39m _prepare_scalar_function(fun, x0, jac, args\u001b[39m=\u001b[39;49margs, epsilon\u001b[39m=\u001b[39;49meps,\n\u001b[1;32m   1284\u001b[0m                               finite_diff_rel_step\u001b[39m=\u001b[39;49mfinite_diff_rel_step)\n\u001b[1;32m   1286\u001b[0m f \u001b[39m=\u001b[39m sf\u001b[39m.\u001b[39mfun\n\u001b[1;32m   1287\u001b[0m myfprime \u001b[39m=\u001b[39m sf\u001b[39m.\u001b[39mgrad\n",
      "File \u001b[0;32m~/opt/miniconda3/envs/IntroCLS/lib/python3.10/site-packages/scipy/optimize/_optimize.py:263\u001b[0m, in \u001b[0;36m_prepare_scalar_function\u001b[0;34m(fun, x0, jac, args, bounds, epsilon, finite_diff_rel_step, hess)\u001b[0m\n\u001b[1;32m    259\u001b[0m     bounds \u001b[39m=\u001b[39m (\u001b[39m-\u001b[39mnp\u001b[39m.\u001b[39minf, np\u001b[39m.\u001b[39minf)\n\u001b[1;32m    261\u001b[0m \u001b[39m# ScalarFunction caches. Reuse of fun(x) during grad\u001b[39;00m\n\u001b[1;32m    262\u001b[0m \u001b[39m# calculation reduces overall function evaluations.\u001b[39;00m\n\u001b[0;32m--> 263\u001b[0m sf \u001b[39m=\u001b[39m ScalarFunction(fun, x0, args, grad, hess,\n\u001b[1;32m    264\u001b[0m                     finite_diff_rel_step, bounds, epsilon\u001b[39m=\u001b[39;49mepsilon)\n\u001b[1;32m    266\u001b[0m \u001b[39mreturn\u001b[39;00m sf\n",
      "File \u001b[0;32m~/opt/miniconda3/envs/IntroCLS/lib/python3.10/site-packages/scipy/optimize/_differentiable_functions.py:158\u001b[0m, in \u001b[0;36mScalarFunction.__init__\u001b[0;34m(self, fun, x0, args, grad, hess, finite_diff_rel_step, finite_diff_bounds, epsilon)\u001b[0m\n\u001b[1;32m    155\u001b[0m     \u001b[39mself\u001b[39m\u001b[39m.\u001b[39mf \u001b[39m=\u001b[39m fun_wrapped(\u001b[39mself\u001b[39m\u001b[39m.\u001b[39mx)\n\u001b[1;32m    157\u001b[0m \u001b[39mself\u001b[39m\u001b[39m.\u001b[39m_update_fun_impl \u001b[39m=\u001b[39m update_fun\n\u001b[0;32m--> 158\u001b[0m \u001b[39mself\u001b[39;49m\u001b[39m.\u001b[39;49m_update_fun()\n\u001b[1;32m    160\u001b[0m \u001b[39m# Gradient evaluation\u001b[39;00m\n\u001b[1;32m    161\u001b[0m \u001b[39mif\u001b[39;00m \u001b[39mcallable\u001b[39m(grad):\n",
      "File \u001b[0;32m~/opt/miniconda3/envs/IntroCLS/lib/python3.10/site-packages/scipy/optimize/_differentiable_functions.py:251\u001b[0m, in \u001b[0;36mScalarFunction._update_fun\u001b[0;34m(self)\u001b[0m\n\u001b[1;32m    249\u001b[0m \u001b[39mdef\u001b[39;00m \u001b[39m_update_fun\u001b[39m(\u001b[39mself\u001b[39m):\n\u001b[1;32m    250\u001b[0m     \u001b[39mif\u001b[39;00m \u001b[39mnot\u001b[39;00m \u001b[39mself\u001b[39m\u001b[39m.\u001b[39mf_updated:\n\u001b[0;32m--> 251\u001b[0m         \u001b[39mself\u001b[39;49m\u001b[39m.\u001b[39;49m_update_fun_impl()\n\u001b[1;32m    252\u001b[0m         \u001b[39mself\u001b[39m\u001b[39m.\u001b[39mf_updated \u001b[39m=\u001b[39m \u001b[39mTrue\u001b[39;00m\n",
      "File \u001b[0;32m~/opt/miniconda3/envs/IntroCLS/lib/python3.10/site-packages/scipy/optimize/_differentiable_functions.py:155\u001b[0m, in \u001b[0;36mScalarFunction.__init__.<locals>.update_fun\u001b[0;34m()\u001b[0m\n\u001b[1;32m    154\u001b[0m \u001b[39mdef\u001b[39;00m \u001b[39mupdate_fun\u001b[39m():\n\u001b[0;32m--> 155\u001b[0m     \u001b[39mself\u001b[39m\u001b[39m.\u001b[39mf \u001b[39m=\u001b[39m fun_wrapped(\u001b[39mself\u001b[39;49m\u001b[39m.\u001b[39;49mx)\n",
      "File \u001b[0;32m~/opt/miniconda3/envs/IntroCLS/lib/python3.10/site-packages/scipy/optimize/_differentiable_functions.py:137\u001b[0m, in \u001b[0;36mScalarFunction.__init__.<locals>.fun_wrapped\u001b[0;34m(x)\u001b[0m\n\u001b[1;32m    133\u001b[0m \u001b[39mself\u001b[39m\u001b[39m.\u001b[39mnfev \u001b[39m+\u001b[39m\u001b[39m=\u001b[39m \u001b[39m1\u001b[39m\n\u001b[1;32m    134\u001b[0m \u001b[39m# Send a copy because the user may overwrite it.\u001b[39;00m\n\u001b[1;32m    135\u001b[0m \u001b[39m# Overwriting results in undefined behaviour because\u001b[39;00m\n\u001b[1;32m    136\u001b[0m \u001b[39m# fun(self.x) will change self.x, with the two no longer linked.\u001b[39;00m\n\u001b[0;32m--> 137\u001b[0m fx \u001b[39m=\u001b[39m fun(np\u001b[39m.\u001b[39;49mcopy(x), \u001b[39m*\u001b[39;49margs)\n\u001b[1;32m    138\u001b[0m \u001b[39m# Make sure the function returns a true scalar\u001b[39;00m\n\u001b[1;32m    139\u001b[0m \u001b[39mif\u001b[39;00m \u001b[39mnot\u001b[39;00m np\u001b[39m.\u001b[39misscalar(fx):\n",
      "\u001b[1;32m/Users/nik/Library/CloudStorage/OneDrive-Personal/MSc_CLS/uncertainty_quantification/homework/homework_5/hw5_nik.ipynb Cell 13\u001b[0m line \u001b[0;36m2\n\u001b[1;32m     <a href='vscode-notebook-cell:/Users/nik/Library/CloudStorage/OneDrive-Personal/MSc_CLS/uncertainty_quantification/homework/homework_5/hw5_nik.ipynb#X15sZmlsZQ%3D%3D?line=21'>22</a>\u001b[0m \u001b[39mdef\u001b[39;00m \u001b[39mproj_hw_min\u001b[39m(v,a,deg,dt):\n\u001b[0;32m---> <a href='vscode-notebook-cell:/Users/nik/Library/CloudStorage/OneDrive-Personal/MSc_CLS/uncertainty_quantification/homework/homework_5/hw5_nik.ipynb#X15sZmlsZQ%3D%3D?line=22'>23</a>\u001b[0m     vhats \u001b[39m=\u001b[39m vhats_proj(v,a,deg)\n\u001b[1;32m     <a href='vscode-notebook-cell:/Users/nik/Library/CloudStorage/OneDrive-Personal/MSc_CLS/uncertainty_quantification/homework/homework_5/hw5_nik.ipynb#X15sZmlsZQ%3D%3D?line=24'>25</a>\u001b[0m     diff \u001b[39m=\u001b[39m ((approx_book(\u001b[39m1\u001b[39m\u001b[39m+\u001b[39mdt,v)\u001b[39m-\u001b[39mapprox_book(\u001b[39m1\u001b[39m,v)\u001b[39m/\u001b[39mdt)\u001b[39m-\u001b[39mapprox_book(\u001b[39m1\u001b[39m,vhats))\u001b[39m*\u001b[39m\u001b[39m*\u001b[39m\u001b[39m2\u001b[39m \u001b[39m+\u001b[39m (approx_book(\u001b[39m0\u001b[39m,v)\u001b[39m-\u001b[39m\u001b[39m0.1\u001b[39m)\u001b[39m*\u001b[39m\u001b[39m*\u001b[39m\u001b[39m2\u001b[39m\n\u001b[1;32m     <a href='vscode-notebook-cell:/Users/nik/Library/CloudStorage/OneDrive-Personal/MSc_CLS/uncertainty_quantification/homework/homework_5/hw5_nik.ipynb#X15sZmlsZQ%3D%3D?line=25'>26</a>\u001b[0m     \u001b[39mreturn\u001b[39;00m diff\n",
      "File \u001b[0;32m~/opt/miniconda3/envs/IntroCLS/lib/python3.10/site-packages/numba/core/dispatcher.py:468\u001b[0m, in \u001b[0;36m_DispatcherBase._compile_for_args\u001b[0;34m(self, *args, **kws)\u001b[0m\n\u001b[1;32m    464\u001b[0m         msg \u001b[39m=\u001b[39m (\u001b[39mf\u001b[39m\u001b[39m\"\u001b[39m\u001b[39m{\u001b[39;00m\u001b[39mstr\u001b[39m(e)\u001b[39m.\u001b[39mrstrip()\u001b[39m}\u001b[39;00m\u001b[39m \u001b[39m\u001b[39m\\n\u001b[39;00m\u001b[39m\\n\u001b[39;00m\u001b[39mThis error may have been caused \u001b[39m\u001b[39m\"\u001b[39m\n\u001b[1;32m    465\u001b[0m                \u001b[39mf\u001b[39m\u001b[39m\"\u001b[39m\u001b[39mby the following argument(s):\u001b[39m\u001b[39m\\n\u001b[39;00m\u001b[39m{\u001b[39;00margs_str\u001b[39m}\u001b[39;00m\u001b[39m\\n\u001b[39;00m\u001b[39m\"\u001b[39m)\n\u001b[1;32m    466\u001b[0m         e\u001b[39m.\u001b[39mpatch_message(msg)\n\u001b[0;32m--> 468\u001b[0m     error_rewrite(e, \u001b[39m'\u001b[39;49m\u001b[39mtyping\u001b[39;49m\u001b[39m'\u001b[39;49m)\n\u001b[1;32m    469\u001b[0m \u001b[39mexcept\u001b[39;00m errors\u001b[39m.\u001b[39mUnsupportedError \u001b[39mas\u001b[39;00m e:\n\u001b[1;32m    470\u001b[0m     \u001b[39m# Something unsupported is present in the user code, add help info\u001b[39;00m\n\u001b[1;32m    471\u001b[0m     error_rewrite(e, \u001b[39m'\u001b[39m\u001b[39munsupported_error\u001b[39m\u001b[39m'\u001b[39m)\n",
      "File \u001b[0;32m~/opt/miniconda3/envs/IntroCLS/lib/python3.10/site-packages/numba/core/dispatcher.py:409\u001b[0m, in \u001b[0;36m_DispatcherBase._compile_for_args.<locals>.error_rewrite\u001b[0;34m(e, issue_type)\u001b[0m\n\u001b[1;32m    407\u001b[0m     \u001b[39mraise\u001b[39;00m e\n\u001b[1;32m    408\u001b[0m \u001b[39melse\u001b[39;00m:\n\u001b[0;32m--> 409\u001b[0m     \u001b[39mraise\u001b[39;00m e\u001b[39m.\u001b[39mwith_traceback(\u001b[39mNone\u001b[39;00m)\n",
      "\u001b[0;31mTypingError\u001b[0m: Failed in nopython mode pipeline (step: nopython frontend)\nInvalid use of int64 with parameters (float64)\nNo type info available for int64 as a callable.\nDuring: resolving callee type: int64\nDuring: typing of call at /var/folders/98/yrk0x6wx2l9ckf4wfg4vr1z00000gn/T/ipykernel_18986/3912245448.py (15)\n\n\nFile \"../../../../../../../../../var/folders/98/yrk0x6wx2l9ckf4wfg4vr1z00000gn/T/ipykernel_18986/3912245448.py\", line 15:\n<source missing, REPL/exec in use?>\n"
     ]
    }
   ],
   "source": [
    "vhats_2 = minimize(proj_hw_min, np.array([0,0,0]), args= (np.array([0, 1]), 3, 0.1)).x"
   ]
  },
  {
   "cell_type": "code",
   "execution_count": null,
   "metadata": {},
   "outputs": [
    {
     "ename": "NameError",
     "evalue": "name 'vhats_2' is not defined",
     "output_type": "error",
     "traceback": [
      "\u001b[0;31m---------------------------------------------------------------------------\u001b[0m",
      "\u001b[0;31mNameError\u001b[0m                                 Traceback (most recent call last)",
      "\u001b[1;32m/Users/nik/Library/CloudStorage/OneDrive-Personal/MSc_CLS/uncertainty_quantification/homework/homework_5/hw5_nik.ipynb Cell 12\u001b[0m line \u001b[0;36m1\n\u001b[0;32m----> <a href='vscode-notebook-cell:/Users/nik/Library/CloudStorage/OneDrive-Personal/MSc_CLS/uncertainty_quantification/homework/homework_5/hw5_nik.ipynb#X34sZmlsZQ%3D%3D?line=0'>1</a>\u001b[0m app_2 \u001b[39m=\u001b[39m approx_book(t, vhats_2)\n",
      "\u001b[0;31mNameError\u001b[0m: name 'vhats_2' is not defined"
     ]
    }
   ],
   "source": [
    "app_2 = approx_book(t, vhats_2)"
   ]
  },
  {
   "cell_type": "code",
   "execution_count": null,
   "metadata": {},
   "outputs": [
    {
     "ename": "NameError",
     "evalue": "name 'app_2' is not defined",
     "output_type": "error",
     "traceback": [
      "\u001b[0;31m---------------------------------------------------------------------------\u001b[0m",
      "\u001b[0;31mNameError\u001b[0m                                 Traceback (most recent call last)",
      "\u001b[1;32m/Users/nik/Library/CloudStorage/OneDrive-Personal/MSc_CLS/uncertainty_quantification/homework/homework_5/hw5_nik.ipynb Cell 13\u001b[0m line \u001b[0;36m1\n\u001b[0;32m----> <a href='vscode-notebook-cell:/Users/nik/Library/CloudStorage/OneDrive-Personal/MSc_CLS/uncertainty_quantification/homework/homework_5/hw5_nik.ipynb#X35sZmlsZQ%3D%3D?line=0'>1</a>\u001b[0m plt\u001b[39m.\u001b[39mplot(t, app_2)\n\u001b[1;32m      <a href='vscode-notebook-cell:/Users/nik/Library/CloudStorage/OneDrive-Personal/MSc_CLS/uncertainty_quantification/homework/homework_5/hw5_nik.ipynb#X35sZmlsZQ%3D%3D?line=1'>2</a>\u001b[0m plt\u001b[39m.\u001b[39mscatter(\u001b[39m2\u001b[39m\u001b[39m*\u001b[39mnp\u001b[39m.\u001b[39mones_like(dudt2s_mean), dudt2s_mean, marker\u001b[39m=\u001b[39m\u001b[39m'\u001b[39m\u001b[39m.\u001b[39m\u001b[39m'\u001b[39m, color \u001b[39m=\u001b[39m \u001b[39m'\u001b[39m\u001b[39mC1\u001b[39m\u001b[39m'\u001b[39m)\n",
      "\u001b[0;31mNameError\u001b[0m: name 'app_2' is not defined"
     ]
    }
   ],
   "source": [
    "plt.plot(t, app_2)\n",
    "plt.scatter(2*np.ones_like(dudt2s_mean), dudt2s_mean, marker='.', color = 'C1')"
   ]
  },
  {
   "cell_type": "code",
   "execution_count": null,
   "metadata": {},
   "outputs": [
    {
     "ename": "TypingError",
     "evalue": "Failed in nopython mode pipeline (step: nopython frontend)\nInvalid use of int64 with parameters (float64)\nNo type info available for int64 as a callable.\nDuring: resolving callee type: int64\nDuring: typing of call at /var/folders/98/yrk0x6wx2l9ckf4wfg4vr1z00000gn/T/ipykernel_15414/3912245448.py (15)\n\n\nFile \"../../../../../../../../../var/folders/98/yrk0x6wx2l9ckf4wfg4vr1z00000gn/T/ipykernel_15414/3912245448.py\", line 15:\n<source missing, REPL/exec in use?>\n",
     "output_type": "error",
     "traceback": [
      "\u001b[0;31m---------------------------------------------------------------------------\u001b[0m",
      "\u001b[0;31mTypingError\u001b[0m                               Traceback (most recent call last)",
      "\u001b[1;32m/Users/nik/Library/CloudStorage/OneDrive-Personal/MSc_CLS/uncertainty_quantification/homework/homework_5/hw5_nik.ipynb Cell 14\u001b[0m line \u001b[0;36m8\n\u001b[1;32m      <a href='vscode-notebook-cell:/Users/nik/Library/CloudStorage/OneDrive-Personal/MSc_CLS/uncertainty_quantification/homework/homework_5/hw5_nik.ipynb#X36sZmlsZQ%3D%3D?line=4'>5</a>\u001b[0m t_span \u001b[39m=\u001b[39m np\u001b[39m.\u001b[39mlinspace(\u001b[39m0\u001b[39m,\u001b[39m2\u001b[39m,\u001b[39m201\u001b[39m)\n\u001b[1;32m      <a href='vscode-notebook-cell:/Users/nik/Library/CloudStorage/OneDrive-Personal/MSc_CLS/uncertainty_quantification/homework/homework_5/hw5_nik.ipynb#X36sZmlsZQ%3D%3D?line=6'>7</a>\u001b[0m \u001b[39m# solve_ivp(proj_hw,[0,2],b,args=(a, deg))\u001b[39;00m\n\u001b[0;32m----> <a href='vscode-notebook-cell:/Users/nik/Library/CloudStorage/OneDrive-Personal/MSc_CLS/uncertainty_quantification/homework/homework_5/hw5_nik.ipynb#X36sZmlsZQ%3D%3D?line=7'>8</a>\u001b[0m sol \u001b[39m=\u001b[39m odeint(proj_hw, \u001b[39m0.1\u001b[39;49m, t_span, args\u001b[39m=\u001b[39;49m(a, deg))\n",
      "File \u001b[0;32m~/opt/miniconda3/envs/IntroCLS/lib/python3.10/site-packages/scipy/integrate/_odepack_py.py:241\u001b[0m, in \u001b[0;36modeint\u001b[0;34m(func, y0, t, args, Dfun, col_deriv, full_output, ml, mu, rtol, atol, tcrit, h0, hmax, hmin, ixpr, mxstep, mxhnil, mxordn, mxords, printmessg, tfirst)\u001b[0m\n\u001b[1;32m    239\u001b[0m t \u001b[39m=\u001b[39m copy(t)\n\u001b[1;32m    240\u001b[0m y0 \u001b[39m=\u001b[39m copy(y0)\n\u001b[0;32m--> 241\u001b[0m output \u001b[39m=\u001b[39m _odepack\u001b[39m.\u001b[39;49modeint(func, y0, t, args, Dfun, col_deriv, ml, mu,\n\u001b[1;32m    242\u001b[0m                          full_output, rtol, atol, tcrit, h0, hmax, hmin,\n\u001b[1;32m    243\u001b[0m                          ixpr, mxstep, mxhnil, mxordn, mxords,\n\u001b[1;32m    244\u001b[0m                          \u001b[39mint\u001b[39;49m(\u001b[39mbool\u001b[39;49m(tfirst)))\n\u001b[1;32m    245\u001b[0m \u001b[39mif\u001b[39;00m output[\u001b[39m-\u001b[39m\u001b[39m1\u001b[39m] \u001b[39m<\u001b[39m \u001b[39m0\u001b[39m:\n\u001b[1;32m    246\u001b[0m     warning_msg \u001b[39m=\u001b[39m _msgs[output[\u001b[39m-\u001b[39m\u001b[39m1\u001b[39m]] \u001b[39m+\u001b[39m \u001b[39m\"\u001b[39m\u001b[39m Run with full_output = 1 to get quantitative information.\u001b[39m\u001b[39m\"\u001b[39m\n",
      "\u001b[1;32m/Users/nik/Library/CloudStorage/OneDrive-Personal/MSc_CLS/uncertainty_quantification/homework/homework_5/hw5_nik.ipynb Cell 14\u001b[0m line \u001b[0;36m1\n\u001b[1;32m     <a href='vscode-notebook-cell:/Users/nik/Library/CloudStorage/OneDrive-Personal/MSc_CLS/uncertainty_quantification/homework/homework_5/hw5_nik.ipynb#X36sZmlsZQ%3D%3D?line=17'>18</a>\u001b[0m \u001b[39mdef\u001b[39;00m \u001b[39mproj_hw\u001b[39m(v,t,a,deg):\n\u001b[0;32m---> <a href='vscode-notebook-cell:/Users/nik/Library/CloudStorage/OneDrive-Personal/MSc_CLS/uncertainty_quantification/homework/homework_5/hw5_nik.ipynb#X36sZmlsZQ%3D%3D?line=18'>19</a>\u001b[0m     vhats \u001b[39m=\u001b[39m vhats_proj(v,a,deg)\n\u001b[1;32m     <a href='vscode-notebook-cell:/Users/nik/Library/CloudStorage/OneDrive-Personal/MSc_CLS/uncertainty_quantification/homework/homework_5/hw5_nik.ipynb#X36sZmlsZQ%3D%3D?line=19'>20</a>\u001b[0m     \u001b[39mreturn\u001b[39;00m approx_book(t, vhats)\n",
      "File \u001b[0;32m~/opt/miniconda3/envs/IntroCLS/lib/python3.10/site-packages/numba/core/dispatcher.py:468\u001b[0m, in \u001b[0;36m_DispatcherBase._compile_for_args\u001b[0;34m(self, *args, **kws)\u001b[0m\n\u001b[1;32m    464\u001b[0m         msg \u001b[39m=\u001b[39m (\u001b[39mf\u001b[39m\u001b[39m\"\u001b[39m\u001b[39m{\u001b[39;00m\u001b[39mstr\u001b[39m(e)\u001b[39m.\u001b[39mrstrip()\u001b[39m}\u001b[39;00m\u001b[39m \u001b[39m\u001b[39m\\n\u001b[39;00m\u001b[39m\\n\u001b[39;00m\u001b[39mThis error may have been caused \u001b[39m\u001b[39m\"\u001b[39m\n\u001b[1;32m    465\u001b[0m                \u001b[39mf\u001b[39m\u001b[39m\"\u001b[39m\u001b[39mby the following argument(s):\u001b[39m\u001b[39m\\n\u001b[39;00m\u001b[39m{\u001b[39;00margs_str\u001b[39m}\u001b[39;00m\u001b[39m\\n\u001b[39;00m\u001b[39m\"\u001b[39m)\n\u001b[1;32m    466\u001b[0m         e\u001b[39m.\u001b[39mpatch_message(msg)\n\u001b[0;32m--> 468\u001b[0m     error_rewrite(e, \u001b[39m'\u001b[39;49m\u001b[39mtyping\u001b[39;49m\u001b[39m'\u001b[39;49m)\n\u001b[1;32m    469\u001b[0m \u001b[39mexcept\u001b[39;00m errors\u001b[39m.\u001b[39mUnsupportedError \u001b[39mas\u001b[39;00m e:\n\u001b[1;32m    470\u001b[0m     \u001b[39m# Something unsupported is present in the user code, add help info\u001b[39;00m\n\u001b[1;32m    471\u001b[0m     error_rewrite(e, \u001b[39m'\u001b[39m\u001b[39munsupported_error\u001b[39m\u001b[39m'\u001b[39m)\n",
      "File \u001b[0;32m~/opt/miniconda3/envs/IntroCLS/lib/python3.10/site-packages/numba/core/dispatcher.py:409\u001b[0m, in \u001b[0;36m_DispatcherBase._compile_for_args.<locals>.error_rewrite\u001b[0;34m(e, issue_type)\u001b[0m\n\u001b[1;32m    407\u001b[0m     \u001b[39mraise\u001b[39;00m e\n\u001b[1;32m    408\u001b[0m \u001b[39melse\u001b[39;00m:\n\u001b[0;32m--> 409\u001b[0m     \u001b[39mraise\u001b[39;00m e\u001b[39m.\u001b[39mwith_traceback(\u001b[39mNone\u001b[39;00m)\n",
      "\u001b[0;31mTypingError\u001b[0m: Failed in nopython mode pipeline (step: nopython frontend)\nInvalid use of int64 with parameters (float64)\nNo type info available for int64 as a callable.\nDuring: resolving callee type: int64\nDuring: typing of call at /var/folders/98/yrk0x6wx2l9ckf4wfg4vr1z00000gn/T/ipykernel_15414/3912245448.py (15)\n\n\nFile \"../../../../../../../../../var/folders/98/yrk0x6wx2l9ckf4wfg4vr1z00000gn/T/ipykernel_15414/3912245448.py\", line 15:\n<source missing, REPL/exec in use?>\n"
     ]
    }
   ],
   "source": [
    "from scipy.integrate import odeint\n",
    "deg = 3\n",
    "a = np.array([0.1,0,0])\n",
    "b = get_b_book(deg, 0.1)\n",
    "t_span = np.linspace(0,2,201)\n",
    "\n",
    "# solve_ivp(proj_hw,[0,2],b,args=(a, deg))\n",
    "sol = odeint(proj_hw, 0.1, t_span, args=(a, deg))"
   ]
  },
  {
   "cell_type": "code",
   "execution_count": null,
   "metadata": {},
   "outputs": [
    {
     "ename": "NameError",
     "evalue": "name 'sol' is not defined",
     "output_type": "error",
     "traceback": [
      "\u001b[0;31m---------------------------------------------------------------------------\u001b[0m",
      "\u001b[0;31mNameError\u001b[0m                                 Traceback (most recent call last)",
      "\u001b[1;32m/Users/nik/Library/CloudStorage/OneDrive-Personal/MSc_CLS/uncertainty_quantification/homework/homework_5/hw5_nik.ipynb Cell 15\u001b[0m line \u001b[0;36m1\n\u001b[0;32m----> <a href='vscode-notebook-cell:/Users/nik/Library/CloudStorage/OneDrive-Personal/MSc_CLS/uncertainty_quantification/homework/homework_5/hw5_nik.ipynb#X43sZmlsZQ%3D%3D?line=0'>1</a>\u001b[0m plt\u001b[39m.\u001b[39mplot(t_span,sol)\n\u001b[1;32m      <a href='vscode-notebook-cell:/Users/nik/Library/CloudStorage/OneDrive-Personal/MSc_CLS/uncertainty_quantification/homework/homework_5/hw5_nik.ipynb#X43sZmlsZQ%3D%3D?line=1'>2</a>\u001b[0m plt\u001b[39m.\u001b[39mscatter(\u001b[39m2\u001b[39m\u001b[39m*\u001b[39mnp\u001b[39m.\u001b[39mones_like(dudt2s_mean), dudt2s_mean, marker\u001b[39m=\u001b[39m\u001b[39m'\u001b[39m\u001b[39m.\u001b[39m\u001b[39m'\u001b[39m, color \u001b[39m=\u001b[39m \u001b[39m'\u001b[39m\u001b[39mC1\u001b[39m\u001b[39m'\u001b[39m)\n",
      "\u001b[0;31mNameError\u001b[0m: name 'sol' is not defined"
     ]
    }
   ],
   "source": [
    "plt.plot(t_span,sol)\n",
    "plt.scatter(2*np.ones_like(dudt2s_mean), dudt2s_mean, marker='.', color = 'C1')"
   ]
  },
  {
   "cell_type": "code",
   "execution_count": 59,
   "metadata": {},
   "outputs": [
    {
     "data": {
      "text/plain": [
       "0"
      ]
     },
     "execution_count": 59,
     "metadata": {},
     "output_type": "execute_result"
    }
   ],
   "source": [
    "4%2"
   ]
  },
  {
   "cell_type": "code",
   "execution_count": 63,
   "metadata": {},
   "outputs": [
    {
     "name": "stdout",
     "output_type": "stream",
     "text": [
      "1.0\n",
      "1.0\n",
      "0\n",
      "0\n",
      "0\n",
      "0\n",
      "0\n",
      "0\n",
      "1.0\n",
      "1.0\n",
      "0\n",
      "0\n",
      "0\n",
      "0\n",
      "0\n",
      "0\n",
      "2.0\n",
      "2.0\n",
      "0\n",
      "0\n",
      "1.0\n",
      "1.0\n",
      "0\n",
      "0\n",
      "1.0\n",
      "1.0\n",
      "0\n",
      "0\n",
      "2.0\n",
      "2.0\n",
      "0\n",
      "0\n",
      "2.0\n",
      "2.0\n",
      "0\n",
      "0\n",
      "0\n",
      "0\n",
      "0\n",
      "0\n",
      "2.0\n",
      "2.0\n",
      "0\n",
      "0\n",
      "2.0\n",
      "2.0\n",
      "0\n",
      "0\n",
      "2.0\n",
      "2.0\n",
      "0\n",
      "0\n",
      "8.0\n",
      "8.0\n"
     ]
    }
   ],
   "source": [
    "from group_2.util import hermite_expectation\n",
    "M = 3\n",
    "\n",
    "for i in range(M):\n",
    "    for j in range(M):\n",
    "        for k in range(M):\n",
    "            print(e_ijk(i,j,k))\n",
    "            print(hermite_expectation(i,j,k))\n",
    "            "
   ]
  },
  {
   "cell_type": "code",
   "execution_count": 60,
   "metadata": {},
   "outputs": [],
   "source": []
  },
  {
   "cell_type": "code",
   "execution_count": null,
   "metadata": {},
   "outputs": [],
   "source": []
  }
 ],
 "metadata": {
  "kernelspec": {
   "display_name": "IntroCLS",
   "language": "python",
   "name": "python3"
  },
  "language_info": {
   "codemirror_mode": {
    "name": "ipython",
    "version": 3
   },
   "file_extension": ".py",
   "mimetype": "text/x-python",
   "name": "python",
   "nbconvert_exporter": "python",
   "pygments_lexer": "ipython3",
   "version": "3.10.8"
  }
 },
 "nbformat": 4,
 "nbformat_minor": 2
}
