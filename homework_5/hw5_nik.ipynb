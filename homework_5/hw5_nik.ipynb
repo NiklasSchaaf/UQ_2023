{
 "cells": [
  {
   "cell_type": "code",
   "execution_count": 1,
   "metadata": {},
   "outputs": [],
   "source": [
    "import numpy as np\n",
    "import matplotlib.pyplot as plt\n",
    "from scipy.integrate import solve_ivp\n",
    "from scipy.special import factorial, hermitenorm\n",
    "from numba import njit"
   ]
  },
  {
   "cell_type": "code",
   "execution_count": 2,
   "metadata": {},
   "outputs": [],
   "source": [
    "@njit\n",
    "def ode(u, t, a=1):\n",
    "    return -0.5 * u**2 + (a+1) * u\n",
    "\n",
    "@njit\n",
    "def ode_book(u,t, a=1):\n",
    "    return -a*u\n",
    "\n",
    "@njit\n",
    "def fact(x):\n",
    "    '''\n",
    "    calculates factorial\n",
    "\n",
    "    Arguments:\n",
    "        x -- integer\n",
    "\n",
    "    Returns:\n",
    "        x!\n",
    "    '''\n",
    "    factors = np.arange(1,x+1)\n",
    "    y = 1\n",
    "    for i in range(x):\n",
    "        y = y * factors[i]\n",
    "    return y\n",
    "\n",
    "@njit\n",
    "def e_ijk(i,j,k):\n",
    "    s = np.ceil((i+j+k)/2)\n",
    "    return (fact(i)*fact(j)*fact(k)) / (fact(s-i)*fact(s-j)*fact(s-k))\n",
    "\n",
    "@njit\n",
    "def get_A(N, mu, sigma):\n",
    "    A = np.zeros((N,N))\n",
    "    a = np.array([mu, sigma])\n",
    "\n",
    "    for j in range(N):\n",
    "        for k in range(N):\n",
    "            Ajk = 0\n",
    "            for i, ai in enumerate(a):\n",
    "                Ajk += ai * e_ijk(i,j,k)\n",
    "            A[j,k] = -1/fact(k) * Ajk\n",
    "    \n",
    "    return A\n",
    "\n",
    "@njit\n",
    "def get_A_book(N, mu, sigma):\n",
    "    A = np.zeros((N,N))\n",
    "    a = np.array([mu, sigma])\n",
    "\n",
    "    for j in range(N):\n",
    "        for k in range(N):\n",
    "            Ajk = 0\n",
    "            for i, ai in enumerate(a):\n",
    "                Ajk += ai * e_ijk(i,j,k)\n",
    "            A[j,k] = -1/fact(k) * Ajk\n",
    "    return A\n",
    "\n",
    "@njit\n",
    "def get_b_book(N, betha):\n",
    "    b = np.zeros(N)\n",
    "    b[0] = betha\n",
    "    return b\n",
    "\n",
    "def get_vhats_book(N, mu, sigma, betha):\n",
    "    A = get_A_book(N,mu,sigma)\n",
    "    b = get_b_book(N,betha)\n",
    "    vhats = np.linalg.solve(A.T,b)\n",
    "\n",
    "    return vhats\n",
    "\n",
    "def approx_book(t, vhats):\n",
    "    u = 0\n",
    "    for i, vhat in enumerate(vhats):\n",
    "        u += vhat * hermitenorm(i)(t)\n",
    "    return u\n",
    "\n"
   ]
  },
  {
   "cell_type": "code",
   "execution_count": 3,
   "metadata": {},
   "outputs": [],
   "source": [
    "u0 = 0.1 # initial condition"
   ]
  },
  {
   "cell_type": "code",
   "execution_count": 19,
   "metadata": {},
   "outputs": [],
   "source": [
    "N = 1000\n",
    "dudt2s_mean = []\n",
    "for i in range(100):\n",
    "    dudt2s = np.zeros(N)\n",
    "    for i in range(N):\n",
    "        a = np.random.normal(0,1)\n",
    "        dudt2s[i] = solve_ivp(ode_book, (0,2), [u0], args = (a,)).y[0,-1]\n",
    "    dudt2s_mean.append(np.mean(dudt2s))"
   ]
  },
  {
   "cell_type": "code",
   "execution_count": 20,
   "metadata": {},
   "outputs": [
    {
     "name": "stdout",
     "output_type": "stream",
     "text": [
      "0.13722318317967233\n",
      "3.7172485471620034\n"
     ]
    }
   ],
   "source": [
    "print(np.mean(dudt2s))\n",
    "print(np.var(dudt2s))"
   ]
  },
  {
   "cell_type": "code",
   "execution_count": 21,
   "metadata": {},
   "outputs": [],
   "source": [
    "vhats = get_vhats_book(3,0,1,0.1)"
   ]
  },
  {
   "cell_type": "code",
   "execution_count": 22,
   "metadata": {},
   "outputs": [],
   "source": [
    "t = np.linspace(0,2,101)\n",
    "app = approx_book(t, vhats)"
   ]
  },
  {
   "cell_type": "code",
   "execution_count": 23,
   "metadata": {},
   "outputs": [
    {
     "data": {
      "text/plain": [
       "<matplotlib.collections.PathCollection at 0x12b135600>"
      ]
     },
     "execution_count": 23,
     "metadata": {},
     "output_type": "execute_result"
    },
    {
     "data": {
      "image/png": "[encoded data removed]",
      "text/plain": [
       "<Figure size 640x480 with 1 Axes>"
      ]
     },
     "metadata": {},
     "output_type": "display_data"
    }
   ],
   "source": [
    "plt.plot(t, app)\n",
    "plt.scatter(2*np.ones_like(dudt2s_mean), dudt2s_mean, marker='.', color = 'C1')"
   ]
  },
  {
   "cell_type": "code",
   "execution_count": null,
   "metadata": {},
   "outputs": [],
   "source": []
  }
 ],
 "metadata": {
  "kernelspec": {
   "display_name": "IntroCLS",
   "language": "python",
   "name": "python3"
  },
  "language_info": {
   "codemirror_mode": {
    "name": "ipython",
    "version": 3
   },
   "file_extension": ".py",
   "mimetype": "text/x-python",
   "name": "python",
   "nbconvert_exporter": "python",
   "pygments_lexer": "ipython3",
   "version": "3.10.8"
  }
 },
 "nbformat": 4,
 "nbformat_minor": 2
}
