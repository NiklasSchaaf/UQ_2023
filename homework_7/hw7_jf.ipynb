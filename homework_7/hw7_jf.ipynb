{
 "cells": [
  {
   "cell_type": "code",
   "execution_count": 15,
   "metadata": {},
   "outputs": [],
   "source": [
    "# Perform Monte-Carlo sims\n",
    "import matplotlib.pyplot as plt \n",
    "from numpy import array, zeros, amax, mean, std, where, count_nonzero\n",
    "from numpy.random import uniform, beta\n",
    "from tqdm import tqdm\n",
    "import multidim_stochastic_collocation as msc\n",
    "from SEIRmodel import SEIRmodel, INFECTED_IX"
   ]
  },
  {
   "cell_type": "code",
   "execution_count": 2,
   "metadata": {},
   "outputs": [],
   "source": [
    "# define random variable intervals \n",
    "R0_interval = [1.5, 3.0] # ~ Uniform distribution   \n",
    "T_interval = [5, 10]     # ~ Uniform distribution\n",
    "tau_interval = [1, 14]   # ~ Beta distribution  \n",
    "beta_a = beta_b = 2      # parameters of beta distribution\n",
    "\n",
    "# Create the collocation nodes \n",
    "clenshaw_curtis_level: int = 4\n",
    "n_randvars = d_dims = 3\n",
    "collocation_nodes_matrix = msc.get_clenshawcurtis_collocation_nodes_matrix(\n",
    "    k=clenshaw_curtis_level, d_dims=d_dims) \n",
    "\n",
    "# Get the number of collocation nodes for each random var\n",
    "n_nodes_per_randvar = collocation_nodes_matrix.shape[1]\n",
    "\n",
    "# Scale the collocation nodes [-1, 1] -> [a, b] for respective random vars\n",
    "collocation_nodes_matrix[0, :] = array( # scale R0 nodes\n",
    "    [msc.map_uniform_val_to_new_interval(\n",
    "        collocation_nodes_matrix[0, i], *R0_interval) \n",
    "        for i in range(n_nodes_per_randvar)]) \n",
    "\n",
    "collocation_nodes_matrix[1, :] = array( # scale T nodes\n",
    "    [msc.map_uniform_val_to_new_interval(\n",
    "        collocation_nodes_matrix[1, i], *T_interval) \n",
    "        for i in range(n_nodes_per_randvar)])\n",
    "\n",
    "collocation_nodes_matrix[2, :] = array( # scale tau nodes\n",
    "    [msc.map_uniform_val_to_new_interval(\n",
    "        collocation_nodes_matrix[2, i], *tau_interval) \n",
    "        for i in range(n_nodes_per_randvar)])\n",
    "\n",
    "# Compute the multi-index \n",
    "multi_index = tuple(msc.get_multi_index(collocation_nodes_matrix))"
   ]
  },
  {
   "cell_type": "code",
   "execution_count": 3,
   "metadata": {},
   "outputs": [
    {
     "name": "stderr",
     "output_type": "stream",
     "text": [
      "Precompute model evaluations collocation nodes: 100%|██████████| 729/729 [00:09<00:00, 80.25it/s]\n"
     ]
    }
   ],
   "source": [
    "# Get dummy model solutions for shape purposes\n",
    "seir_model_solutions = SEIRmodel(3, 3, 3)\n",
    "\n",
    "# initialize the model evaluation cache to prevent redundantly\n",
    "# computing model solution at collocation nodes\n",
    "model_evaluation_cache = zeros(\n",
    "        shape=(*([n_nodes_per_randvar]*n_randvars), \n",
    "                *seir_model_solutions.shape))\n",
    "\n",
    "# precompute model at collocation nodes\n",
    "for js in tqdm(\n",
    "    multi_index, desc=\"Precompute model evaluations collocation nodes\"):\n",
    "    collocation_nodes_at_j = collocation_nodes_matrix[range(len(js)), js]\n",
    "    model_eval = SEIRmodel(*collocation_nodes_at_j)\n",
    "\n",
    "    # e.g., update `tensor[0, 0, 1, :, :]`  with the model evaluation\n",
    "    # having used collocation nodes corresponding to multindices (0, 0, 1)\n",
    "    eval_cache_ix = (*js, ...)\n",
    "    model_evaluation_cache[eval_cache_ix]  = model_eval"
   ]
  },
  {
   "cell_type": "code",
   "execution_count": 8,
   "metadata": {},
   "outputs": [
    {
     "name": "stderr",
     "output_type": "stream",
     "text": [
      "Monte-Carlo Sampling: 100%|██████████| 1000/1000 [03:10<00:00,  5.24it/s]\n"
     ]
    }
   ],
   "source": [
    "# Determine number of MC samples\n",
    "mc_samples = 1000\n",
    "\n",
    "# Create the Zs vector by selecting arbitrary values in the appropriate\n",
    "# intervals for the random vars\n",
    "R0s = uniform(*R0_interval,size=mc_samples)\n",
    "Ts = uniform(*T_interval, size=mc_samples)\n",
    "taus = [msc.map_beta_val_to_new_interval(val, *tau_interval) \n",
    "        for val in beta(beta_a, beta_b, size=mc_samples)]\n",
    "\n",
    "# monte carlo sampling\n",
    "Qs = []\n",
    "for (R0, T, tau) in tqdm(\n",
    "    zip(R0s, Ts, taus), desc=\"Monte-Carlo Sampling\", total=len(taus)):\n",
    "\n",
    "    Zs = [R0, T, tau]\n",
    "    \n",
    "    u_approx = msc.multidim_stochastic_collocation(\n",
    "        Zs, model_evaluation_cache, collocation_nodes_matrix, multi_index,\n",
    "        verbose = False) \n",
    "    \n",
    "    infected = u_approx[:, INFECTED_IX]\n",
    "\n",
    "    Q = amax(infected)\n",
    "    Qs.append(Q)"
   ]
  },
  {
   "cell_type": "code",
   "execution_count": 12,
   "metadata": {},
   "outputs": [
    {
     "data": {
      "image/png": "[encoded data removed]",
      "text/plain": [
       "<Figure size 640x480 with 1 Axes>"
      ]
     },
     "metadata": {},
     "output_type": "display_data"
    }
   ],
   "source": [
    "# Plot histogram of maximum infected Q from montecarlo sim\n",
    "plt.hist(Qs, bins=50)\n",
    "plt.ylabel(\"Counts\")\n",
    "plt.xlabel(\"Q\")\n",
    "plt.show()"
   ]
  },
  {
   "cell_type": "code",
   "execution_count": 17,
   "metadata": {},
   "outputs": [
    {
     "name": "stdout",
     "output_type": "stream",
     "text": [
      "8681.847318958959\n",
      "3830.7931992458825\n"
     ]
    },
    {
     "data": {
      "text/plain": [
       "0.062"
      ]
     },
     "execution_count": 17,
     "metadata": {},
     "output_type": "execute_result"
    }
   ],
   "source": [
    "Qs = array(Qs)\n",
    "\n",
    "# Summary statistics\n",
    "print(mean(Qs))\n",
    "print(std(Qs))\n",
    "\n",
    "# probability for I(t) > 15_000\n",
    "count_nonzero(where(Qs > 15_000)) / mc_samples"
   ]
  },
  {
   "cell_type": "code",
   "execution_count": null,
   "metadata": {},
   "outputs": [],
   "source": []
  }
 ],
 "metadata": {
  "kernelspec": {
   "display_name": "cls",
   "language": "python",
   "name": "python3"
  },
  "language_info": {
   "codemirror_mode": {
    "name": "ipython",
    "version": 3
   },
   "file_extension": ".py",
   "mimetype": "text/x-python",
   "name": "python",
   "nbconvert_exporter": "python",
   "pygments_lexer": "ipython3",
   "version": "3.10.10"
  }
 },
 "nbformat": 4,
 "nbformat_minor": 5
}
