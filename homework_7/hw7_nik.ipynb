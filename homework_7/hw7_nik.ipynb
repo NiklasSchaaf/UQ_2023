{
 "cells": [
  {
   "cell_type": "code",
   "execution_count": 1,
   "metadata": {},
   "outputs": [],
   "source": [
    "import numpy as np\n",
    "import matplotlib.pyplot as plt\n",
    "from SEIRmodel import SEIRmodel\n",
    "from scipy import interpolate\n",
    "from numba import njit\n",
    "from multidim_stochastic_collocation import get_clenshawcurtis_collocation_nodes_matrix"
   ]
  },
  {
   "cell_type": "code",
   "execution_count": 2,
   "metadata": {},
   "outputs": [],
   "source": [
    "def beta_PDF(tao):\n",
    "    '''\n",
    "    PDF of given beta distribution\n",
    "\n",
    "    Arguments:\n",
    "        tao -- random variable\n",
    "\n",
    "    Returns:\n",
    "        probability of tao\n",
    "    '''\n",
    "    return (tao-1)*(14-tao)\n",
    "\n",
    "def beta_CDF(tao):\n",
    "    '''\n",
    "    CDF of given beta distribution\n",
    "\n",
    "    Arguments:\n",
    "        tao -- random variable\n",
    "\n",
    "    Returns:\n",
    "        probability that RV <= tao\n",
    "    '''\n",
    "    return (-1/3 * tao**3 + 15/2 * tao**2 - 14 * tao + 41/6) / (2197/6)\n",
    "\n",
    "# get inverse of beta CDF by means of interpolation\n",
    "beta_invCDF = interpolate.interp1d(beta_CDF(np.linspace(1,14,1001)),np.linspace(1,14,1001))\n",
    "\n",
    "def beta_sample():\n",
    "    '''\n",
    "        sample from given beta distribution\n",
    "    '''\n",
    "    u = np.random.uniform()\n",
    "    return beta_invCDF(u)\n",
    "\n",
    "def I_max(R0, T, tao):\n",
    "    '''\n",
    "    caculates the quantity of interest max(I(t))\n",
    "\n",
    "    Arguments:\n",
    "        R0 -- reproductive number\n",
    "        T -- incubation period\n",
    "        tao -- recovery rate\n",
    "\n",
    "    Returns:\n",
    "        maximum value of infected for the given parameters\n",
    "    '''\n",
    "    return np.max(SEIRmodel(R0, T, tao)[:,2])\n",
    "\n",
    "def eval_nodes(nodes):\n",
    "    '''\n",
    "    evaluates all combinations of the nodes with the original PDEs\n",
    "\n",
    "    Arguments:\n",
    "        nodes -- 2D array of the nodes\n",
    "\n",
    "    Returns:\n",
    "        array with the quantity of interest for each node\n",
    "    '''\n",
    "    nodes = np.copy(nodes)\n",
    "\n",
    "    # transform nodes to proper interval\n",
    "    nodes[0,:] = map_uniform_val_to_new_interval(nodes[0,:],1.5,3)\n",
    "    nodes[1,:] = map_uniform_val_to_new_interval(nodes[1,:],5,10)\n",
    "    nodes[2,:] = beta_invCDF(map_uniform_val_to_new_interval(nodes[2,:],0,1))\n",
    "    Imax_at_nodes = []\n",
    "\n",
    "    # loop over all combinations and calculate the quantity of interest\n",
    "    for i in range(nodes.shape[1]):\n",
    "        for j in range(nodes.shape[1]):\n",
    "            for k in range(nodes.shape[1]):\n",
    "                Imax_at_nodes.append(I_max(nodes[0,i], nodes[1,j], nodes[2,k]))\n",
    "    \n",
    "    return np.array(Imax_at_nodes)\n",
    "\n",
    "@njit\n",
    "def surrogate_SEIR(R0_norm, T_norm, tao_norm, Imax_at_nodes, nodes):\n",
    "    '''\n",
    "    The surrogate of the SEIR constructed with stochastic collocation\n",
    "\n",
    "    Arguments:\n",
    "        R0_norm -- normalized reproductive number\n",
    "        T_norm -- normalized incubation period\n",
    "        tao_norm -- normalized recovery rate\n",
    "        Imax_at_nodes -- array with the quantity of interest for each node\n",
    "        nodes -- array with the nodes for each dimension\n",
    "\n",
    "    Returns:\n",
    "        approximation of SEIR with the given parameters\n",
    "    '''\n",
    "    \n",
    "    # get te lagrange basis function for the nodes in each dimension\n",
    "    lagrange_base = np.zeros(nodes.shape)\n",
    "    for i in range(nodes.shape[1]):\n",
    "        # calculate the Lagrange basis functions\n",
    "        lagrange_base[0,i] = lagrange_basis(R0_norm, nodes[0], i)\n",
    "        lagrange_base[1,i] = lagrange_basis(T_norm, nodes[1], i)\n",
    "        lagrange_base[2,i] = lagrange_basis(tao_norm, nodes[2], i)\n",
    "    \n",
    "    # calculate the approximation\n",
    "    approx = 0\n",
    "    counter = 0\n",
    "    for i in range(nodes.shape[1]):\n",
    "        for j in range(nodes.shape[1]):\n",
    "            for k in range(nodes.shape[1]):\n",
    "                approx += Imax_at_nodes[counter] * lagrange_base[0,i] * lagrange_base[1,j] * lagrange_base[2,k]\n",
    "                counter += 1\n",
    "                \n",
    "    return approx\n",
    "\n",
    "@njit\n",
    "def lagrange_basis(x, data_points, j):\n",
    "    \"\"\"Calculate the Lagrange basis function for the j-th data point.\n",
    "\n",
    "    Args:\n",
    "        x: The point at which we evaluate the basis function.\n",
    "        data_points (array-like): The list of data points (x values).\n",
    "        j: The index of the data point for which we calculate the basis function.\n",
    "\n",
    "    Returns:\n",
    "        The value of the j-th Lagrange basis function at point x.\n",
    "    \"\"\"\n",
    "    n = len(data_points)\n",
    "    basis = 1.0\n",
    "    for i in range(n):\n",
    "        if j != i:\n",
    "            basis *= (x - data_points[i]) / (data_points[j] - data_points[i])\n",
    "\n",
    "    return basis\n",
    "\n",
    "@njit\n",
    "def map_uniform_val_to_new_interval(val, a, b):\n",
    "    \"\"\"Map value on interval [-1, 1] to [a, b].\n",
    "\n",
    "    References:\n",
    "        Ch. 9.2.1 from \"Uncertainty Quantification and Predictive Computational \n",
    "        Science\" (McClarren 2018).\n",
    "    \"\"\"\n",
    "    return ((b-a)/2)*val + (a + b)/2"
   ]
  },
  {
   "cell_type": "code",
   "execution_count": 3,
   "metadata": {},
   "outputs": [],
   "source": [
    "# define the nodes\n",
    "k = 5; d = 3\n",
    "nodes = get_clenshawcurtis_collocation_nodes_matrix(k, d)\n",
    "# calculate the quantities of interest\n",
    "Imax_at_nodes = eval_nodes(nodes)"
   ]
  },
  {
   "cell_type": "code",
   "execution_count": 4,
   "metadata": {},
   "outputs": [
    {
     "name": "stdout",
     "output_type": "stream",
     "text": [
      "surrogate: I(t)=  4579.211898926376\n",
      "model: I(t)=  4584.616694681515\n"
     ]
    }
   ],
   "source": [
    "# random comparison\n",
    "R0_norm = np.random.uniform(-1,1)\n",
    "T_norm = np.random.uniform(-1,1)\n",
    "tao_norm = np.random.uniform(-1,1)\n",
    "print('surrogate: I(t)= ', surrogate_SEIR(R0_norm,T_norm,tao_norm,Imax_at_nodes,nodes))\n",
    "\n",
    "R0 = map_uniform_val_to_new_interval(R0_norm,1.5,3)\n",
    "T = map_uniform_val_to_new_interval(T_norm,5,10)\n",
    "tao = beta_invCDF(map_uniform_val_to_new_interval(tao_norm,0,1))\n",
    "print('model: I(t)= ', I_max(R0,T,tao))"
   ]
  },
  {
   "cell_type": "code",
   "execution_count": 5,
   "metadata": {},
   "outputs": [],
   "source": [
    "# MC sampling\n",
    "N = 1_000_000\n",
    "MC_samples = []\n",
    "for i in range(N):\n",
    "    R0_norm = np.random.uniform(-1,1)\n",
    "    T_norm = np.random.uniform(-1,1)\n",
    "    tao_norm = np.random.uniform(-1,1)\n",
    "    approx = surrogate_SEIR(R0_norm,T_norm,tao_norm,Imax_at_nodes,nodes) \n",
    "    MC_samples.append(approx)\n",
    "\n",
    "MC_samples = np.array(MC_samples)"
   ]
  },
  {
   "cell_type": "code",
   "execution_count": 6,
   "metadata": {},
   "outputs": [
    {
     "data": {
      "text/plain": [
       "Text(0.5, 0, 'max. I(t), 50 bins, N= 1000000')"
      ]
     },
     "execution_count": 6,
     "metadata": {},
     "output_type": "execute_result"
    },
    {
     "data": {
      "image/png": "[encoded data removed]",
      "text/plain": [
       "<Figure size 640x480 with 1 Axes>"
      ]
     },
     "metadata": {},
     "output_type": "display_data"
    }
   ],
   "source": [
    "# histogram\n",
    "nbins = 50\n",
    "plt.hist(MC_samples, bins=nbins)\n",
    "plt.ylabel('count')\n",
    "plt.xlabel('max. I(t), '+str(nbins)+' bins, N= '+str(N))"
   ]
  },
  {
   "cell_type": "code",
   "execution_count": 7,
   "metadata": {},
   "outputs": [
    {
     "data": {
      "text/plain": [
       "9080.216694204188"
      ]
     },
     "execution_count": 7,
     "metadata": {},
     "output_type": "execute_result"
    }
   ],
   "source": [
    "# mean\n",
    "np.mean(MC_samples)"
   ]
  },
  {
   "cell_type": "code",
   "execution_count": 8,
   "metadata": {},
   "outputs": [
    {
     "data": {
      "text/plain": [
       "4000.1970125887724"
      ]
     },
     "execution_count": 8,
     "metadata": {},
     "output_type": "execute_result"
    }
   ],
   "source": [
    "# standard deviaton\n",
    "np.std(MC_samples)"
   ]
  },
  {
   "cell_type": "code",
   "execution_count": 9,
   "metadata": {},
   "outputs": [
    {
     "data": {
      "text/plain": [
       "0.086502"
      ]
     },
     "execution_count": 9,
     "metadata": {},
     "output_type": "execute_result"
    }
   ],
   "source": [
    "# probability for I(t) > 15_000\n",
    "np.count_nonzero(np.where(MC_samples > 15_000)) / N"
   ]
  },
  {
   "cell_type": "code",
   "execution_count": null,
   "metadata": {},
   "outputs": [],
   "source": []
  }
 ],
 "metadata": {
  "kernelspec": {
   "display_name": "IntroCLS",
   "language": "python",
   "name": "python3"
  },
  "language_info": {
   "codemirror_mode": {
    "name": "ipython",
    "version": 3
   },
   "file_extension": ".py",
   "mimetype": "text/x-python",
   "name": "python",
   "nbconvert_exporter": "python",
   "pygments_lexer": "ipython3",
   "version": "3.10.8"
  }
 },
 "nbformat": 4,
 "nbformat_minor": 2
}
