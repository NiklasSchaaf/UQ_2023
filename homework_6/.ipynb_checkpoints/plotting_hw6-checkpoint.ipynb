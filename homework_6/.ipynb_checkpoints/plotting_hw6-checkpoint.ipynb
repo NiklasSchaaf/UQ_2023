{
 "cells": [
  {
   "cell_type": "code",
   "execution_count": null,
   "metadata": {},
   "outputs": [],
   "source": [
    "import stochastic_collocation as sc\n",
    "import matplotlib.pyplot as plt\n",
    "import numpy as np\n",
    "import heateqn"
   ]
  },
  {
   "cell_type": "code",
   "execution_count": null,
   "metadata": {},
   "outputs": [],
   "source": [
    "### evaluate the error of approximation against true solution for given Z\n",
    "Ms = np.arange(1,50)\n",
    "Z = 2\n",
    "\n",
    "x, solution = heateqn.heat_eq(Z)\n",
    "\n",
    "errors = []\n",
    "for M in Ms:\n",
    "    _, realization = sc.approx_M(M, np.array([Z]))\n",
    "    errors.append(np.sqrt(np.mean((realization-solution)**2)))\n",
    "\n",
    "Z2 = 15\n",
    "x, solution2 = heateqn.heat_eq(Z2)\n",
    "errors2 = []\n",
    "for M in Ms:\n",
    "    _, realization = sc.approx_M(M, np.array([Z2]))\n",
    "    errors2.append(np.sqrt(np.mean((realization-solution2)**2)))\n",
    "\n",
    "# plot\n",
    "fig, ax = plt.subplots(figsize=(5,2.5))\n",
    "plt.plot(Ms, errors, label = 'Z = '+str(Z))\n",
    "plt.plot(Ms, errors2, label = 'Z = '+str(Z2))\n",
    "\n",
    "plt.xlabel('number of nodes')\n",
    "plt.ylabel('error')\n",
    "plt.yscale('log')\n",
    "plt.legend()\n",
    "plt.tight_layout()\n",
    "plt.savefig('error_convergence.png',dpi = 300)"
   ]
  },
  {
   "cell_type": "code",
   "execution_count": null,
   "metadata": {},
   "outputs": [],
   "source": [
    "x, sol = heateqn.heat_eq(9)\n",
    "_, realization = sc.approx_M(2, np.array([9]))\n",
    "plt.plot(x, sol)\n",
    "plt.plot(x, realization[0])"
   ]
  },
  {
   "cell_type": "code",
   "execution_count": null,
   "metadata": {},
   "outputs": [],
   "source": [
    "### generate realizations of the approximation.\n",
    "M = 30\n",
    "N = 10000\n",
    "zetas_vals = np.random.uniform(2, 16, N)\n",
    "_, realisations = sc.approx_M(30, zetas_vals)\n",
    "\n",
    "# for realisation in realisations:\n",
    "#     plt.plot(x, realisation, linewidth = 0.7, color='red')\n",
    "\n",
    "mean_approx = np.mean(realisations, axis=0)\n",
    "stdev_approx = np.std(realisations, axis = 0)\n",
    "percentiles_5 = np.percentile(realisations, 5, axis=0)\n",
    "percentiles_95 = np.percentile(realisations, 95, axis=0)\n",
    "\n",
    "fig, ax = plt.subplots(figsize=(5,3))\n",
    "plt.xlabel(\"x\")\n",
    "plt.plot(x, mean_approx, linewidth = 2.5, color='black', label = \"mean\")\n",
    "plt.plot(x, percentiles_95, linewidth = 2, color = 'black', ls = '--', label = '95th Percentile')\n",
    "plt.plot(x, percentiles_5, linewidth = 2, color = 'black', ls = ':', label = '5th Percentile')\n",
    "plt.fill_between(x, mean_approx-stdev_approx, mean_approx+stdev_approx, color='gray', alpha=0.4, label='standard deviation')\n",
    "plt.legend()\n",
    "plt.ylabel(\"u(x, Z)\")\n",
    "# plt.title(\"Approximation of u(x), M = \"+str(M)+\", N = \"+str(N) )\n",
    "plt.tight_layout()\n",
    "plt.savefig('approx.png',dpi = 300)"
   ]
  },
  {
   "cell_type": "code",
   "execution_count": null,
   "metadata": {},
   "outputs": [],
   "source": [
    "# Find the index in the 'x' array that is closest to x = 0.7\n",
    "x_target = 0.7\n",
    "index_x_07 = np.abs(x - x_target).argmin()\n",
    "\n",
    "# Access the values of 'u' at x = 0.7 for all realizations\n",
    "u_vals_07 = [realisation[index_x_07] for realisation in realisations]\n",
    "\n",
    "# plt.hist(u_vals_07, bins=25, label = 'approx', alpha = 1,histtype='bar')\n",
    "\n",
    "\n",
    "realisations_exact = []\n",
    "for i in range(N):\n",
    "    z = np.random.uniform(2, 16)\n",
    "    res = heateqn.heat_eq(z)\n",
    "    realisations_exact.append(res[1])\n",
    "\n",
    "u_vals_07_exact = [realisation[index_x_07] for realisation in realisations_exact]\n",
    "\n",
    "fig, ax = plt.subplots(figsize=(5,2.5))\n",
    "plt.hist([u_vals_07_exact, u_vals_07], bins=25, label = ['direct', 'approximation'], histtype='bar')\n",
    "# plt.hist(u_vals_07_exact, bins=25, label = 'approx', alpha = 1, histtype='step')\n",
    "plt.ylabel('count')\n",
    "plt.xlabel('u(x = 0.7, Z)')\n",
    "plt.legend()\n",
    "plt.tight_layout()\n",
    "plt.savefig('histograms.png',dpi = 300)"
   ]
  },
  {
   "cell_type": "code",
   "execution_count": null,
   "metadata": {},
   "outputs": [],
   "source": [
    "### plot change in standard deviation with MC sampling\n",
    "N = 100_000 # samples\n",
    "reps = 30\n",
    "zeta_vals = np.random.uniform(2,16,N*reps)\n",
    "_, MC_realizations = sc.approx_M(30, zeta_vals)"
   ]
  },
  {
   "cell_type": "code",
   "execution_count": null,
   "metadata": {},
   "outputs": [],
   "source": [
    "# get mean of std\n",
    "sample_sizes = [100, 500, 1000, 5000, 10000, 50000, 100000]\n",
    "# sample_sizes = np.arange(2000,N+1,2000)\n",
    "means = np.zeros((len(sample_sizes), reps))\n",
    "\n",
    "for i, size in enumerate(sample_sizes):\n",
    "    for j in range(reps):\n",
    "        means[i,j] = np.mean(MC_realizations[j*size:j*size+size])\n",
    "\n",
    "MC_mean = np.mean(means, axis = 1)\n",
    "MC_std = np.std(means, axis = 1)\n",
    "\n",
    "fig, ax = plt.subplots(figsize=(5,2.5))\n",
    "for i, size in enumerate(sample_sizes):\n",
    "    for j in range(reps):\n",
    "        plt.scatter(size, means[i,j], marker= '.', color = 'C2', alpha = 0.2 )\n",
    "plt.fill_between(sample_sizes, MC_mean-MC_std, MC_mean+MC_std, alpha = 0.3, label = 'STD of means, N='+str(reps))\n",
    "plt.plot(sample_sizes, MC_mean, label = 'mean of means, N='+str(reps))\n",
    "\n",
    "plt.ylabel('MC mean')\n",
    "plt.xlabel('N samples')\n",
    "plt.legend()\n",
    "plt.ylim([-0.0040, -0.002])\n",
    "plt.xscale('log')\n",
    "plt.tight_layout()\n",
    "plt.savefig('MC_convergence.png',dpi = 300)"
   ]
  },
  {
   "cell_type": "code",
   "execution_count": null,
   "metadata": {},
   "outputs": [],
   "source": []
  }
 ],
 "metadata": {
  "kernelspec": {
   "display_name": "Python 3 (ipykernel)",
   "language": "python",
   "name": "python3"
  },
  "language_info": {
   "codemirror_mode": {
    "name": "ipython",
    "version": 3
   },
   "file_extension": ".py",
   "mimetype": "text/x-python",
   "name": "python",
   "nbconvert_exporter": "python",
   "pygments_lexer": "ipython3",
   "version": "3.10.10"
  }
 },
 "nbformat": 4,
 "nbformat_minor": 2
}
