{
 "cells": [
  {
   "cell_type": "code",
   "execution_count": 1,
   "metadata": {},
   "outputs": [],
   "source": [
    "import numpy as np\n",
    "import matplotlib.pyplot as plt\n",
    "from scipy.special import legendre, hermite\n",
    "from scipy.integrate import nquad, quad, dblquad\n",
    "from itertools import product\n",
    "from numba import njit"
   ]
  },
  {
   "cell_type": "code",
   "execution_count": 2,
   "metadata": {},
   "outputs": [],
   "source": [
    "@njit\n",
    "def function(Z1, Z2):\n",
    "    \"\"\"\n",
    "    Calculate the value of the given function.\n",
    "\n",
    "    Args:\n",
    "        Z1 (float): First input parameter.\n",
    "        Z2 (float): Second input parameter.\n",
    "\n",
    "    Returns:\n",
    "        float: The value of the mathematical function.\n",
    "    \"\"\"\n",
    "    # adapted such that no coordinate transformation is necessary\n",
    "    return -(Z1) * (Z2)**3 + np.exp(-0.5*(Z1)**2 - 0.1 * (Z2)**2)\n",
    "\n",
    "def get_pairs(max_order, dims=2):\n",
    "    \"\"\"\n",
    "    Generate pairs of integers where sum of each pair is less than or equal to max_order.\n",
    "\n",
    "    Args:\n",
    "        max_order (int): The maximum integer value for pairs.\n",
    "        dims (int, optional): Number of dimensions for the pairs. Default is 2.\n",
    "\n",
    "    Returns:\n",
    "        list: List of pairs of integers.\n",
    "    \"\"\"\n",
    "    pairs = []\n",
    "    for pair in product(np.arange(0, max_order), repeat=dims):\n",
    "        if sum(pair) <= max_order:\n",
    "            pairs.append(pair)\n",
    "    return pairs\n",
    "\n",
    "@njit\n",
    "def normal_pdf(x, mu=0, sigma=1):\n",
    "    \"\"\"\n",
    "    Calculate the probability density function (PDF) of a normal (Gaussian) distribution.\n",
    "\n",
    "    Args:\n",
    "        x (float or ndarray): The value(s) at which to evaluate the PDF.\n",
    "        mu (float, optional): The mean (average) of the normal distribution. Default is 0.\n",
    "        sigma (float, optional): The standard deviation of the normal distribution. Default is 1.\n",
    "\n",
    "    Returns:\n",
    "        float or ndarray: The PDF value(s) at the specified input value(s).\n",
    "    \"\"\"\n",
    "    return 1 / (sigma * np.sqrt(2*np.pi)) * np.exp(-0.5 * ((x - mu) / sigma)**2)\n",
    "\n",
    "def integral_nominator(Z1, Z2, phi1, phi2):\n",
    "    \"\"\"\n",
    "    Calculate the integrand for a specific pair of Legendre and Hermite polynomials.\n",
    "\n",
    "    Args:\n",
    "        Z1 (float): First input parameter.\n",
    "        Z2 (float): Second input parameter.\n",
    "        phi1 : Legendre polynomial\n",
    "        phi2 : Hermite polynomials.\n",
    "\n",
    "    Returns:\n",
    "        float: The value of the integrand.\n",
    "    \"\"\"\n",
    "    f = function(Z1, Z2) # calculate f with transformed variables\n",
    "    return f * phi1(Z1) * phi2(Z2) * 0.5 * normal_pdf(Z2)\n",
    "\n",
    "def inner_leg(z, order):\n",
    "    \"\"\"\n",
    "    Calculate the inner product of a Legendre polynomial of a given order.\n",
    "\n",
    "    Args:\n",
    "        z (float): The input value at which to evaluate the Legendre polynomial.\n",
    "        order (int): The order of the Legendre polynomial.\n",
    "\n",
    "    Returns:\n",
    "        float: The inner product value.\n",
    "    \"\"\"\n",
    "    phi = legendre(order)\n",
    "    return phi(z) * phi(z) * 0.5\n",
    "\n",
    "def inner_her(z, order):\n",
    "    \"\"\"\n",
    "    Calculate the inner product of a Hermite polynomial of a given order.\n",
    "\n",
    "    Args:\n",
    "        z (float): The input value at which to evaluate the Hermite polynomial.\n",
    "        order (int): The order of the Hermite polynomial.\n",
    "\n",
    "    Returns:\n",
    "        float: The inner product value.\n",
    "    \"\"\"\n",
    "    phi = hermite(order) \n",
    "    return phi(z) * phi(z) * normal_pdf(z)\n",
    "\n",
    "def get_coefficents(max_order, dims=2):\n",
    "    \"\"\"\n",
    "    Calculate coefficients for the pairs of Legendre and Hermite polynomials.\n",
    "\n",
    "    Args:\n",
    "        max_order (int): The maximum order for Legendre and Hermite polynomials.\n",
    "        dims (int, optional): Number of dimensions. Default is 2.\n",
    "\n",
    "    Returns:\n",
    "        tuple: A tuple containing pairs of Legendre and Hermite polynomials, and their coefficients.\n",
    "    \"\"\"\n",
    "    pairs = get_pairs(max_order, dims)\n",
    "\n",
    "    # Pre-calculate gamma's so we can reuse them\n",
    "    gamma1s = []\n",
    "    gamma2s = []\n",
    "    for i in range(max_order+1):\n",
    "            gamma1s.append(quad(inner_leg, -1, 1, args=i)[0])\n",
    "            gamma2s.append(quad(inner_her, -np.inf, np.inf, args=i)[0])\n",
    "            if i%10 == 0:\n",
    "                print(i,\" of \",max_order+1,\" iterations\")\n",
    "\n",
    "    fhats = []\n",
    "    for i, pair in enumerate(pairs):\n",
    "        phi1 = legendre(pair[0])  # This line uses legendre, make sure it is imported or defined.\n",
    "        phi2 = hermite(pair[1])  # This line uses hermite, make sure it is imported or defined.\n",
    "        nominator = nquad(integral_nominator, [[-1, 1], [-np.inf, np.inf]], args=[phi1, phi2])[0]\n",
    "        fhats.append(nominator / (gamma1s[pair[0]] * gamma2s[pair[1]]))\n",
    "        if i%100 == 0:\n",
    "            print(i,\" of \",len(pairs),\" iterations\")\n",
    "\n",
    "    return pairs, fhats\n",
    "\n",
    "def proj_eval(z1, z2, pairs, fhats):\n",
    "    \"\"\"\n",
    "    Evaluate the projection of the function onto a set of basis functions.\n",
    "\n",
    "    Args:\n",
    "        z1 (array-like): Input values for the first dimension.\n",
    "        z2 (array-like): Input values for the second dimension.\n",
    "        pairs (list): List of pairs representing Legendre and Hermite polynomial orders.\n",
    "        fhats (list): List of coefficients for each pair.\n",
    "\n",
    "    Returns:\n",
    "        ndarray: The projection matrix.\n",
    "    \"\"\"\n",
    "    proj = np.zeros((len(z1), len(z1)))\n",
    "    for i, pair in enumerate(pairs):\n",
    "        proj += fhats[i] * legendre(pair[0])(z1) * hermite(pair[1])(z2)  # This line uses legendre and hermite, make sure they are imported or defined.\n",
    "\n",
    "    return proj\n"
   ]
  },
  {
   "cell_type": "code",
   "execution_count": 3,
   "metadata": {},
   "outputs": [],
   "source": [
    "X, Y = np.meshgrid(np.linspace(-1,1,1000), np.linspace(-3,3,1000))\n",
    "Zf = function(X,Y)"
   ]
  },
  {
   "cell_type": "code",
   "execution_count": 4,
   "metadata": {},
   "outputs": [
    {
     "data": {
      "text/plain": [
       "0.6551523875256017"
      ]
     },
     "execution_count": 4,
     "metadata": {},
     "output_type": "execute_result"
    }
   ],
   "source": [
    "np.mean(Zf)"
   ]
  },
  {
   "cell_type": "code",
   "execution_count": 5,
   "metadata": {},
   "outputs": [
    {
     "data": {
      "text/plain": [
       "<matplotlib.colorbar.Colorbar at 0x1487f3ca0>"
      ]
     },
     "execution_count": 5,
     "metadata": {},
     "output_type": "execute_result"
    },
    {
     "data": {
      "image/png": "[encoded data removed]",
      "text/plain": [
       "<Figure size 640x480 with 2 Axes>"
      ]
     },
     "metadata": {},
     "output_type": "display_data"
    }
   ],
   "source": [
    "plt.contourf(X,Y,Zf)\n",
    "plt.colorbar()"
   ]
  },
  {
   "cell_type": "code",
   "execution_count": 6,
   "metadata": {},
   "outputs": [],
   "source": [
    "# max_order = 10\n",
    "# pairs, fhats = get_coefficents(max_order)"
   ]
  },
  {
   "cell_type": "code",
   "execution_count": 7,
   "metadata": {},
   "outputs": [],
   "source": [
    "max_order = 100\n",
    "pairs = get_pairs(max_order)\n",
    "fhats = np.load('fhats_100.npy')"
   ]
  },
  {
   "cell_type": "code",
   "execution_count": 8,
   "metadata": {},
   "outputs": [
    {
     "name": "stderr",
     "output_type": "stream",
     "text": [
      "/Users/nik/opt/miniconda3/envs/IntroCLS/lib/python3.10/site-packages/scipy/special/_orthogonal.py:121: RuntimeWarning: invalid value encountered in sqrt\n",
      "  mu = sqrt(hn)\n"
     ]
    },
    {
     "ename": "KeyboardInterrupt",
     "evalue": "",
     "output_type": "error",
     "traceback": [
      "\u001b[0;31m---------------------------------------------------------------------------\u001b[0m",
      "\u001b[0;31mKeyboardInterrupt\u001b[0m                         Traceback (most recent call last)",
      "\u001b[1;32m/Users/nik/Library/CloudStorage/OneDrive-Personal/MSc_CLS/uncertainty_quantification/homework/homework_4/hw_nik.ipynb Cell 8\u001b[0m line \u001b[0;36m3\n\u001b[1;32m      <a href='vscode-notebook-cell:/Users/nik/Library/CloudStorage/OneDrive-Personal/MSc_CLS/uncertainty_quantification/homework/homework_4/hw_nik.ipynb#X22sZmlsZQ%3D%3D?line=0'>1</a>\u001b[0m \u001b[39m# np.save('fhats_100',fhats)\u001b[39;00m\n\u001b[0;32m----> <a href='vscode-notebook-cell:/Users/nik/Library/CloudStorage/OneDrive-Personal/MSc_CLS/uncertainty_quantification/homework/homework_4/hw_nik.ipynb#X22sZmlsZQ%3D%3D?line=2'>3</a>\u001b[0m Zp \u001b[39m=\u001b[39m proj_eval(X,Y,pairs,fhats)\n",
      "\u001b[1;32m/Users/nik/Library/CloudStorage/OneDrive-Personal/MSc_CLS/uncertainty_quantification/homework/homework_4/hw_nik.ipynb Cell 8\u001b[0m line \u001b[0;36m1\n\u001b[1;32m    <a href='vscode-notebook-cell:/Users/nik/Library/CloudStorage/OneDrive-Personal/MSc_CLS/uncertainty_quantification/homework/homework_4/hw_nik.ipynb#X22sZmlsZQ%3D%3D?line=137'>138</a>\u001b[0m proj \u001b[39m=\u001b[39m np\u001b[39m.\u001b[39mzeros((\u001b[39mlen\u001b[39m(z1), \u001b[39mlen\u001b[39m(z1)))\n\u001b[1;32m    <a href='vscode-notebook-cell:/Users/nik/Library/CloudStorage/OneDrive-Personal/MSc_CLS/uncertainty_quantification/homework/homework_4/hw_nik.ipynb#X22sZmlsZQ%3D%3D?line=138'>139</a>\u001b[0m \u001b[39mfor\u001b[39;00m i, pair \u001b[39min\u001b[39;00m \u001b[39menumerate\u001b[39m(pairs):\n\u001b[0;32m--> <a href='vscode-notebook-cell:/Users/nik/Library/CloudStorage/OneDrive-Personal/MSc_CLS/uncertainty_quantification/homework/homework_4/hw_nik.ipynb#X22sZmlsZQ%3D%3D?line=139'>140</a>\u001b[0m     proj \u001b[39m+\u001b[39m\u001b[39m=\u001b[39m fhats[i] \u001b[39m*\u001b[39m legendre(pair[\u001b[39m0\u001b[39m])(z1) \u001b[39m*\u001b[39m hermite(pair[\u001b[39m1\u001b[39;49m])(z2)  \u001b[39m# This line uses legendre and hermite, make sure they are imported or defined.\u001b[39;00m\n\u001b[1;32m    <a href='vscode-notebook-cell:/Users/nik/Library/CloudStorage/OneDrive-Personal/MSc_CLS/uncertainty_quantification/homework/homework_4/hw_nik.ipynb#X22sZmlsZQ%3D%3D?line=141'>142</a>\u001b[0m \u001b[39mreturn\u001b[39;00m proj\n",
      "File \u001b[0;32m~/opt/miniconda3/envs/IntroCLS/lib/python3.10/site-packages/scipy/special/_orthogonal.py:144\u001b[0m, in \u001b[0;36morthopoly1d.__call__\u001b[0;34m(self, v)\u001b[0m\n\u001b[1;32m    142\u001b[0m \u001b[39mdef\u001b[39;00m \u001b[39m__call__\u001b[39m(\u001b[39mself\u001b[39m, v):\n\u001b[1;32m    143\u001b[0m     \u001b[39mif\u001b[39;00m \u001b[39mself\u001b[39m\u001b[39m.\u001b[39m_eval_func \u001b[39mand\u001b[39;00m \u001b[39mnot\u001b[39;00m \u001b[39misinstance\u001b[39m(v, np\u001b[39m.\u001b[39mpoly1d):\n\u001b[0;32m--> 144\u001b[0m         \u001b[39mreturn\u001b[39;00m \u001b[39mself\u001b[39;49m\u001b[39m.\u001b[39;49m_eval_func(v)\n\u001b[1;32m    145\u001b[0m     \u001b[39melse\u001b[39;00m:\n\u001b[1;32m    146\u001b[0m         \u001b[39mreturn\u001b[39;00m np\u001b[39m.\u001b[39mpoly1d\u001b[39m.\u001b[39m\u001b[39m__call__\u001b[39m(\u001b[39mself\u001b[39m, v)\n",
      "File \u001b[0;32m~/opt/miniconda3/envs/IntroCLS/lib/python3.10/site-packages/scipy/special/_orthogonal.py:1310\u001b[0m, in \u001b[0;36mhermite.<locals>.<lambda>\u001b[0;34m(x)\u001b[0m\n\u001b[1;32m   1307\u001b[0m hn \u001b[39m=\u001b[39m \u001b[39m2\u001b[39m\u001b[39m*\u001b[39m\u001b[39m*\u001b[39mn \u001b[39m*\u001b[39m _gam(n \u001b[39m+\u001b[39m \u001b[39m1\u001b[39m) \u001b[39m*\u001b[39m sqrt(pi)\n\u001b[1;32m   1308\u001b[0m kn \u001b[39m=\u001b[39m \u001b[39m2\u001b[39m\u001b[39m*\u001b[39m\u001b[39m*\u001b[39mn\n\u001b[1;32m   1309\u001b[0m p \u001b[39m=\u001b[39m orthopoly1d(x, w, hn, kn, wfunc, (\u001b[39m-\u001b[39minf, inf), monic,\n\u001b[0;32m-> 1310\u001b[0m                 \u001b[39mlambda\u001b[39;00m x: _ufuncs\u001b[39m.\u001b[39;49meval_hermite(n, x))\n\u001b[1;32m   1311\u001b[0m \u001b[39mreturn\u001b[39;00m p\n",
      "\u001b[0;31mKeyboardInterrupt\u001b[0m: "
     ]
    }
   ],
   "source": [
    "# np.save('fhats_100',fhats)\n",
    "\n",
    "Zp = proj_eval(X,Y,pairs,fhats)"
   ]
  },
  {
   "cell_type": "code",
   "execution_count": null,
   "metadata": {},
   "outputs": [
    {
     "data": {
      "text/plain": [
       "array([[-55.81682756, -55.69900536, -55.58118318, ...,  58.62924278,\n",
       "         58.74098929,  58.85273579],\n",
       "       [-55.28989285, -55.17314917, -55.05640551, ...,  58.09263095,\n",
       "         58.20332254,  58.31401411],\n",
       "       [-54.76791481, -54.6522396 , -54.53656441, ...,  57.56101749,\n",
       "         57.67066407,  57.78031064],\n",
       "       ...,\n",
       "       [ 57.78031064,  57.67066407,  57.56101749, ..., -54.53656441,\n",
       "        -54.6522396 , -54.76791481],\n",
       "       [ 58.31401411,  58.20332254,  58.09263095, ..., -55.05640551,\n",
       "        -55.17314917, -55.28989285],\n",
       "       [ 58.85273579,  58.74098929,  58.62924278, ..., -55.58118318,\n",
       "        -55.69900536, -55.81682756]])"
      ]
     },
     "execution_count": 68,
     "metadata": {},
     "output_type": "execute_result"
    }
   ],
   "source": [
    "Zp"
   ]
  },
  {
   "cell_type": "code",
   "execution_count": null,
   "metadata": {},
   "outputs": [
    {
     "data": {
      "text/plain": [
       "<matplotlib.colorbar.Colorbar at 0x123af7cd0>"
      ]
     },
     "execution_count": 69,
     "metadata": {},
     "output_type": "execute_result"
    },
    {
     "data": {
      "image/png": "[encoded data removed]",
      "text/plain": [
       "<Figure size 640x480 with 2 Axes>"
      ]
     },
     "metadata": {},
     "output_type": "display_data"
    }
   ],
   "source": [
    "plt.contourf(X,Y,Zp)\n",
    "plt.colorbar()"
   ]
  },
  {
   "cell_type": "code",
   "execution_count": 11,
   "metadata": {},
   "outputs": [
    {
     "data": {
      "text/plain": [
       "83027.45124753652"
      ]
     },
     "execution_count": 11,
     "metadata": {},
     "output_type": "execute_result"
    }
   ],
   "source": [
    "pZ = 1/2 * np.ones(Zf.shape)\n",
    "pZ = np.multiply(normal_pdf(Y), pZ)\n",
    "np.sum(pZ)"
   ]
  },
  {
   "cell_type": "code",
   "execution_count": 12,
   "metadata": {},
   "outputs": [
    {
     "data": {
      "text/plain": [
       "<matplotlib.colorbar.Colorbar at 0x149e801f0>"
      ]
     },
     "execution_count": 12,
     "metadata": {},
     "output_type": "execute_result"
    },
    {
     "data": {
      "image/png": "[encoded data removed]",
      "text/plain": [
       "<Figure size 640x480 with 2 Axes>"
      ]
     },
     "metadata": {},
     "output_type": "display_data"
    }
   ],
   "source": [
    "plt.contourf(X,Y,pZ)\n",
    "plt.colorbar()"
   ]
  },
  {
   "cell_type": "code",
   "execution_count": 13,
   "metadata": {},
   "outputs": [
    {
     "data": {
      "text/plain": [
       "49.95000000000002"
      ]
     },
     "execution_count": 13,
     "metadata": {},
     "output_type": "execute_result"
    }
   ],
   "source": [
    "np.sum(normal_pdf(np.linspace(-10,10,1000)))"
   ]
  },
  {
   "cell_type": "code",
   "execution_count": 14,
   "metadata": {},
   "outputs": [
    {
     "ename": "NameError",
     "evalue": "name 'Zp' is not defined",
     "output_type": "error",
     "traceback": [
      "\u001b[0;31m---------------------------------------------------------------------------\u001b[0m",
      "\u001b[0;31mNameError\u001b[0m                                 Traceback (most recent call last)",
      "\u001b[1;32m/Users/nik/Library/CloudStorage/OneDrive-Personal/MSc_CLS/uncertainty_quantification/homework/homework_4/hw_nik.ipynb Cell 14\u001b[0m line \u001b[0;36m1\n\u001b[0;32m----> <a href='vscode-notebook-cell:/Users/nik/Library/CloudStorage/OneDrive-Personal/MSc_CLS/uncertainty_quantification/homework/homework_4/hw_nik.ipynb#X12sZmlsZQ%3D%3D?line=0'>1</a>\u001b[0m plt\u001b[39m.\u001b[39mcontourf(X,Y,Zf\u001b[39m-\u001b[39mZp)\n\u001b[1;32m      <a href='vscode-notebook-cell:/Users/nik/Library/CloudStorage/OneDrive-Personal/MSc_CLS/uncertainty_quantification/homework/homework_4/hw_nik.ipynb#X12sZmlsZQ%3D%3D?line=1'>2</a>\u001b[0m plt\u001b[39m.\u001b[39mcolorbar()\n",
      "\u001b[0;31mNameError\u001b[0m: name 'Zp' is not defined"
     ]
    }
   ],
   "source": [
    "plt.contourf(X,Y,Zf-Zp)\n",
    "plt.colorbar()"
   ]
  },
  {
   "cell_type": "code",
   "execution_count": 15,
   "metadata": {},
   "outputs": [
    {
     "ename": "LinAlgError",
     "evalue": "SVD did not converge",
     "output_type": "error",
     "traceback": [
      "\u001b[0;31m---------------------------------------------------------------------------\u001b[0m",
      "\u001b[0;31mLinAlgError\u001b[0m                               Traceback (most recent call last)",
      "\u001b[1;32m/Users/nik/Library/CloudStorage/OneDrive-Personal/MSc_CLS/uncertainty_quantification/homework/homework_4/hw_nik.ipynb Cell 15\u001b[0m line \u001b[0;36m1\n\u001b[1;32m     <a href='vscode-notebook-cell:/Users/nik/Library/CloudStorage/OneDrive-Personal/MSc_CLS/uncertainty_quantification/homework/homework_4/hw_nik.ipynb#X14sZmlsZQ%3D%3D?line=9'>10</a>\u001b[0m         ord_fhats\u001b[39m.\u001b[39mappend(fhats[i])\n\u001b[1;32m     <a href='vscode-notebook-cell:/Users/nik/Library/CloudStorage/OneDrive-Personal/MSc_CLS/uncertainty_quantification/homework/homework_4/hw_nik.ipynb#X14sZmlsZQ%3D%3D?line=11'>12</a>\u001b[0m Zp \u001b[39m=\u001b[39m proj_eval(X,Y,ord_pairs,ord_fhats)\n\u001b[0;32m---> <a href='vscode-notebook-cell:/Users/nik/Library/CloudStorage/OneDrive-Personal/MSc_CLS/uncertainty_quantification/homework/homework_4/hw_nik.ipynb#X14sZmlsZQ%3D%3D?line=12'>13</a>\u001b[0m wE \u001b[39m=\u001b[39m np\u001b[39m.\u001b[39;49mlinalg\u001b[39m.\u001b[39;49mnorm((Zf\u001b[39m-\u001b[39;49mZp)\u001b[39m*\u001b[39;49mpZ,\u001b[39m2\u001b[39;49m) \u001b[39m# np.sqrt(np.sum(((Zf-Zp)*pZ)**2))\u001b[39;00m\n\u001b[1;32m     <a href='vscode-notebook-cell:/Users/nik/Library/CloudStorage/OneDrive-Personal/MSc_CLS/uncertainty_quantification/homework/homework_4/hw_nik.ipynb#X14sZmlsZQ%3D%3D?line=13'>14</a>\u001b[0m errors\u001b[39m.\u001b[39mappend(np\u001b[39m.\u001b[39msum(wE))\n",
      "File \u001b[0;32m<__array_function__ internals>:200\u001b[0m, in \u001b[0;36mnorm\u001b[0;34m(*args, **kwargs)\u001b[0m\n",
      "File \u001b[0;32m~/opt/miniconda3/envs/IntroCLS/lib/python3.10/site-packages/numpy/linalg/linalg.py:2560\u001b[0m, in \u001b[0;36mnorm\u001b[0;34m(x, ord, axis, keepdims)\u001b[0m\n\u001b[1;32m   2558\u001b[0m     \u001b[39mraise\u001b[39;00m \u001b[39mValueError\u001b[39;00m(\u001b[39m'\u001b[39m\u001b[39mDuplicate axes given.\u001b[39m\u001b[39m'\u001b[39m)\n\u001b[1;32m   2559\u001b[0m \u001b[39mif\u001b[39;00m \u001b[39mord\u001b[39m \u001b[39m==\u001b[39m \u001b[39m2\u001b[39m:\n\u001b[0;32m-> 2560\u001b[0m     ret \u001b[39m=\u001b[39m  _multi_svd_norm(x, row_axis, col_axis, amax)\n\u001b[1;32m   2561\u001b[0m \u001b[39melif\u001b[39;00m \u001b[39mord\u001b[39m \u001b[39m==\u001b[39m \u001b[39m-\u001b[39m\u001b[39m2\u001b[39m:\n\u001b[1;32m   2562\u001b[0m     ret \u001b[39m=\u001b[39m _multi_svd_norm(x, row_axis, col_axis, amin)\n",
      "File \u001b[0;32m~/opt/miniconda3/envs/IntroCLS/lib/python3.10/site-packages/numpy/linalg/linalg.py:2334\u001b[0m, in \u001b[0;36m_multi_svd_norm\u001b[0;34m(x, row_axis, col_axis, op)\u001b[0m\n\u001b[1;32m   2311\u001b[0m \u001b[39m\u001b[39m\u001b[39m\"\"\"Compute a function of the singular values of the 2-D matrices in `x`.\u001b[39;00m\n\u001b[1;32m   2312\u001b[0m \n\u001b[1;32m   2313\u001b[0m \u001b[39mThis is a private utility function used by `numpy.linalg.norm()`.\u001b[39;00m\n\u001b[0;32m   (...)\u001b[0m\n\u001b[1;32m   2331\u001b[0m \n\u001b[1;32m   2332\u001b[0m \u001b[39m\"\"\"\u001b[39;00m\n\u001b[1;32m   2333\u001b[0m y \u001b[39m=\u001b[39m moveaxis(x, (row_axis, col_axis), (\u001b[39m-\u001b[39m\u001b[39m2\u001b[39m, \u001b[39m-\u001b[39m\u001b[39m1\u001b[39m))\n\u001b[0;32m-> 2334\u001b[0m result \u001b[39m=\u001b[39m op(svd(y, compute_uv\u001b[39m=\u001b[39;49m\u001b[39mFalse\u001b[39;49;00m), axis\u001b[39m=\u001b[39m\u001b[39m-\u001b[39m\u001b[39m1\u001b[39m)\n\u001b[1;32m   2335\u001b[0m \u001b[39mreturn\u001b[39;00m result\n",
      "File \u001b[0;32m<__array_function__ internals>:200\u001b[0m, in \u001b[0;36msvd\u001b[0;34m(*args, **kwargs)\u001b[0m\n",
      "File \u001b[0;32m~/opt/miniconda3/envs/IntroCLS/lib/python3.10/site-packages/numpy/linalg/linalg.py:1654\u001b[0m, in \u001b[0;36msvd\u001b[0;34m(a, full_matrices, compute_uv, hermitian)\u001b[0m\n\u001b[1;32m   1651\u001b[0m     gufunc \u001b[39m=\u001b[39m _umath_linalg\u001b[39m.\u001b[39msvd_n\n\u001b[1;32m   1653\u001b[0m signature \u001b[39m=\u001b[39m \u001b[39m'\u001b[39m\u001b[39mD->d\u001b[39m\u001b[39m'\u001b[39m \u001b[39mif\u001b[39;00m isComplexType(t) \u001b[39melse\u001b[39;00m \u001b[39m'\u001b[39m\u001b[39md->d\u001b[39m\u001b[39m'\u001b[39m\n\u001b[0;32m-> 1654\u001b[0m s \u001b[39m=\u001b[39m gufunc(a, signature\u001b[39m=\u001b[39;49msignature, extobj\u001b[39m=\u001b[39;49mextobj)\n\u001b[1;32m   1655\u001b[0m s \u001b[39m=\u001b[39m s\u001b[39m.\u001b[39mastype(_realType(result_t), copy\u001b[39m=\u001b[39m\u001b[39mFalse\u001b[39;00m)\n\u001b[1;32m   1656\u001b[0m \u001b[39mreturn\u001b[39;00m s\n",
      "File \u001b[0;32m~/opt/miniconda3/envs/IntroCLS/lib/python3.10/site-packages/numpy/linalg/linalg.py:98\u001b[0m, in \u001b[0;36m_raise_linalgerror_svd_nonconvergence\u001b[0;34m(err, flag)\u001b[0m\n\u001b[1;32m     97\u001b[0m \u001b[39mdef\u001b[39;00m \u001b[39m_raise_linalgerror_svd_nonconvergence\u001b[39m(err, flag):\n\u001b[0;32m---> 98\u001b[0m     \u001b[39mraise\u001b[39;00m LinAlgError(\u001b[39m\"\u001b[39m\u001b[39mSVD did not converge\u001b[39m\u001b[39m\"\u001b[39m)\n",
      "\u001b[0;31mLinAlgError\u001b[0m: SVD did not converge"
     ]
    }
   ],
   "source": [
    "# use the calculated coesfficents to get the errors for lower orders\n",
    "orders = np.arange(1,max_order)\n",
    "errors = []\n",
    "\n",
    "for order in orders:\n",
    "    ord_pairs = get_pairs(order)\n",
    "    ord_fhats = []\n",
    "    for i,pair in enumerate(pairs):\n",
    "        if pair in ord_pairs:\n",
    "            ord_fhats.append(fhats[i])\n",
    "    \n",
    "    Zp = proj_eval(X,Y,ord_pairs,ord_fhats)\n",
    "    wE = np.linalg.norm((Zf-Zp)*pZ,2) # np.sqrt(np.sum(((Zf-Zp)*pZ)**2))\n",
    "    errors.append(np.sum(wE))"
   ]
  },
  {
   "cell_type": "code",
   "execution_count": 16,
   "metadata": {},
   "outputs": [
    {
     "data": {
      "text/plain": [
       "40"
      ]
     },
     "execution_count": 16,
     "metadata": {},
     "output_type": "execute_result"
    }
   ],
   "source": [
    "len(errors)"
   ]
  },
  {
   "cell_type": "code",
   "execution_count": 17,
   "metadata": {},
   "outputs": [
    {
     "data": {
      "text/plain": [
       "Text(0, 0.5, 'error')"
      ]
     },
     "execution_count": 17,
     "metadata": {},
     "output_type": "execute_result"
    },
    {
     "data": {
      "image/png": "[encoded data removed]",
      "text/plain": [
       "<Figure size 640x480 with 1 Axes>"
      ]
     },
     "metadata": {},
     "output_type": "display_data"
    }
   ],
   "source": [
    "plt.plot(orders[:len(errors)], errors)\n",
    "plt.xlabel(\"order\")\n",
    "plt.ylabel(\"error\")"
   ]
  },
  {
   "cell_type": "code",
   "execution_count": null,
   "metadata": {},
   "outputs": [
    {
     "data": {
      "text/plain": [
       "[<matplotlib.lines.Line2D at 0x130099660>]"
      ]
     },
     "execution_count": 92,
     "metadata": {},
     "output_type": "execute_result"
    },
    {
     "data": {
      "image/png": "[encoded data removed]",
      "text/plain": [
       "<Figure size 640x480 with 1 Axes>"
      ]
     },
     "metadata": {},
     "output_type": "display_data"
    }
   ],
   "source": [
    "plt.plot(fhats[:100])"
   ]
  },
  {
   "cell_type": "code",
   "execution_count": 22,
   "metadata": {},
   "outputs": [
    {
     "data": {
      "text/plain": [
       "901"
      ]
     },
     "execution_count": 22,
     "metadata": {},
     "output_type": "execute_result"
    }
   ],
   "source": [
    "len(ord_pairs)"
   ]
  },
  {
   "cell_type": "code",
   "execution_count": null,
   "metadata": {},
   "outputs": [],
   "source": []
  }
 ],
 "metadata": {
  "kernelspec": {
   "display_name": "IntroCLS",
   "language": "python",
   "name": "python3"
  },
  "language_info": {
   "codemirror_mode": {
    "name": "ipython",
    "version": 3
   },
   "file_extension": ".py",
   "mimetype": "text/x-python",
   "name": "python",
   "nbconvert_exporter": "python",
   "pygments_lexer": "ipython3",
   "version": "3.10.8"
  },
  "orig_nbformat": 4
 },
 "nbformat": 4,
 "nbformat_minor": 2
}
