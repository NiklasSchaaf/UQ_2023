{
 "cells": [
  {
   "cell_type": "code",
   "execution_count": 1,
   "metadata": {},
   "outputs": [],
   "source": [
    "import numpy as np\n",
    "import matplotlib.pyplot as plt\n",
    "from scipy.special import legendre, hermite\n",
    "from scipy.integrate import nquad, quad, dblquad\n",
    "from itertools import product"
   ]
  },
  {
   "cell_type": "code",
   "execution_count": 2,
   "metadata": {},
   "outputs": [],
   "source": [
    "def function(Z1, Z2):\n",
    "    \"\"\"\n",
    "    Calculate the value of the given function.\n",
    "\n",
    "    Args:\n",
    "        Z1 (float): First input parameter.\n",
    "        Z2 (float): Second input parameter.\n",
    "\n",
    "    Returns:\n",
    "        float: The value of the mathematical function.\n",
    "    \"\"\"\n",
    "    # adapted such that no coordinate transformation is necessary\n",
    "    return -(Z1) * (Z2)**3 + np.exp(-0.5*(Z1)**2 - 0.1 * (Z2)**2)\n",
    "\n",
    "def get_pairs(max_order, dims=2):\n",
    "    \"\"\"\n",
    "    Generate pairs of integers where sum of each pair is less than or equal to max_order.\n",
    "\n",
    "    Args:\n",
    "        max_order (int): The maximum integer value for pairs.\n",
    "        dims (int, optional): Number of dimensions for the pairs. Default is 2.\n",
    "\n",
    "    Returns:\n",
    "        list: List of pairs of integers.\n",
    "    \"\"\"\n",
    "    pairs = []\n",
    "    for pair in product(np.arange(0, max_order), repeat=dims):\n",
    "        if sum(pair) <= max_order:\n",
    "            pairs.append(pair)\n",
    "    return pairs\n",
    "\n",
    "def normal_pdf(x, mu=0, sigma=1):\n",
    "    \"\"\"\n",
    "    Calculate the probability density function (PDF) of a normal (Gaussian) distribution.\n",
    "\n",
    "    Args:\n",
    "        x (float or ndarray): The value(s) at which to evaluate the PDF.\n",
    "        mu (float, optional): The mean (average) of the normal distribution. Default is 0.\n",
    "        sigma (float, optional): The standard deviation of the normal distribution. Default is 1.\n",
    "\n",
    "    Returns:\n",
    "        float or ndarray: The PDF value(s) at the specified input value(s).\n",
    "    \"\"\"\n",
    "    return 1 / (sigma * np.sqrt(2*np.pi)) * np.exp(-0.5 * ((x - mu) / sigma)**2)\n",
    "\n",
    "\n",
    "\n",
    "def integral_nominator(Z1, Z2, pair):\n",
    "    \"\"\"\n",
    "    Calculate the integrand for a specific pair of Legendre and Hermite polynomials.\n",
    "\n",
    "    Args:\n",
    "        Z1 (float): First input parameter.\n",
    "        Z2 (float): Second input parameter.\n",
    "        pair (tuple): A pair of integers representing the orders of Legendre and Hermite polynomials.\n",
    "\n",
    "    Returns:\n",
    "        float: The value of the integrand.\n",
    "    \"\"\"\n",
    "    f = function(Z1, Z2) # calculate f with transformed variables\n",
    "    phi1 = legendre(pair[0])  # This line uses legendre, make sure it is imported or defined.\n",
    "    phi2 = hermite(pair[1])  # This line uses hermite, make sure it is imported or defined.\n",
    "\n",
    "    return f * phi1(Z1) * phi2(Z2) * 0.5 * normal_pdf(Z2)\n",
    "\n",
    "def inner_leg(z, order):\n",
    "    \"\"\"\n",
    "    Calculate the inner product of a Legendre polynomial of a given order.\n",
    "\n",
    "    Args:\n",
    "        z (float): The input value at which to evaluate the Legendre polynomial.\n",
    "        order (int): The order of the Legendre polynomial.\n",
    "\n",
    "    Returns:\n",
    "        float: The inner product value.\n",
    "    \"\"\"\n",
    "    phi = legendre(order)\n",
    "    return phi(z) * phi(z) * 0.5\n",
    "\n",
    "def inner_her(z, order):\n",
    "    \"\"\"\n",
    "    Calculate the inner product of a Hermite polynomial of a given order.\n",
    "\n",
    "    Args:\n",
    "        z (float): The input value at which to evaluate the Hermite polynomial.\n",
    "        order (int): The order of the Hermite polynomial.\n",
    "\n",
    "    Returns:\n",
    "        float: The inner product value.\n",
    "    \"\"\"\n",
    "    phi = hermite(order) \n",
    "    return phi(z) * phi(z) * normal_pdf(z)\n",
    "\n",
    "def get_coefficents(max_order, dims=2):\n",
    "    \"\"\"\n",
    "    Calculate coefficients for the pairs of Legendre and Hermite polynomials.\n",
    "\n",
    "    Args:\n",
    "        max_order (int): The maximum order for Legendre and Hermite polynomials.\n",
    "        dims (int, optional): Number of dimensions. Default is 2.\n",
    "\n",
    "    Returns:\n",
    "        tuple: A tuple containing pairs of Legendre and Hermite polynomials, and their coefficients.\n",
    "    \"\"\"\n",
    "    pairs = get_pairs(max_order, dims)\n",
    "\n",
    "    # Pre-calculate gamma's so we can reuse them\n",
    "    gamma1s = []\n",
    "    gamma2s = []\n",
    "    for i in range(max_order+1):\n",
    "            gamma1s.append(quad(inner_leg, -1, 1, args=i)[0])\n",
    "            gamma2s.append(quad(inner_her, -np.inf, np.inf, args=i)[0])\n",
    "\n",
    "    fhats = []\n",
    "    for i, pair in enumerate(pairs):\n",
    "        nominator = dblquad(integral_nominator, -np.inf, np.inf, -1, 1, args=[pair])[0]\n",
    "        fhats.append(nominator / (gamma1s[pair[0]] * gamma2s[pair[1]]))\n",
    "\n",
    "    return pairs, fhats\n",
    "\n",
    "def proj_eval(z1, z2, pairs, fhats):\n",
    "    \"\"\"\n",
    "    Evaluate the projection of the function onto a set of basis functions.\n",
    "\n",
    "    Args:\n",
    "        z1 (array-like): Input values for the first dimension.\n",
    "        z2 (array-like): Input values for the second dimension.\n",
    "        pairs (list): List of pairs representing Legendre and Hermite polynomial orders.\n",
    "        fhats (list): List of coefficients for each pair.\n",
    "\n",
    "    Returns:\n",
    "        ndarray: The projection matrix.\n",
    "    \"\"\"\n",
    "    proj = np.zeros((len(z1), len(z1)))\n",
    "    for i, pair in enumerate(pairs):\n",
    "        proj += fhats[i] * legendre(pair[0])(z1) * hermite(pair[1])(z2)  # This line uses legendre and hermite, make sure they are imported or defined.\n",
    "\n",
    "    return proj\n"
   ]
  },
  {
   "cell_type": "code",
   "execution_count": 3,
   "metadata": {},
   "outputs": [],
   "source": [
    "X, Y = np.meshgrid(sorted(np.random.uniform(-1,1, 1000)), sorted(np.random.normal(0, 1, 1000)))\n",
    "Zf = function(X,Y)"
   ]
  },
  {
   "cell_type": "code",
   "execution_count": 4,
   "metadata": {},
   "outputs": [
    {
     "data": {
      "text/plain": [
       "0.7822576151829537"
      ]
     },
     "execution_count": 4,
     "metadata": {},
     "output_type": "execute_result"
    }
   ],
   "source": [
    "np.mean(Zf)"
   ]
  },
  {
   "cell_type": "code",
   "execution_count": 5,
   "metadata": {},
   "outputs": [
    {
     "data": {
      "text/plain": [
       "<matplotlib.colorbar.Colorbar at 0x1263fc130>"
      ]
     },
     "execution_count": 5,
     "metadata": {},
     "output_type": "execute_result"
    },
    {
     "data": {
      "image/png": "[encoded data removed]",
      "text/plain": [
       "<Figure size 432x288 with 2 Axes>"
      ]
     },
     "metadata": {
      "needs_background": "light"
     },
     "output_type": "display_data"
    }
   ],
   "source": [
    "plt.contourf(X,Y,Zf)\n",
    "plt.colorbar()"
   ]
  },
  {
   "cell_type": "code",
   "execution_count": 6,
   "metadata": {},
   "outputs": [
    {
     "name": "stderr",
     "output_type": "stream",
     "text": [
      "/Applications/anaconda3/lib/python3.9/site-packages/scipy/integrate/_quadpack_py.py:1151: IntegrationWarning: The occurrence of roundoff error is detected, which prevents \n",
      "  the requested tolerance from being achieved.  The error may be \n",
      "  underestimated.\n",
      "  quad_r = quad(f, low, high, args=args, full_output=self.full_output,\n",
      "/Applications/anaconda3/lib/python3.9/site-packages/scipy/integrate/_quadpack_py.py:1151: IntegrationWarning: The integral is probably divergent, or slowly convergent.\n",
      "  quad_r = quad(f, low, high, args=args, full_output=self.full_output,\n",
      "/Applications/anaconda3/lib/python3.9/site-packages/scipy/integrate/_quadpack_py.py:1151: IntegrationWarning: The maximum number of subdivisions (50) has been achieved.\n",
      "  If increasing the limit yields no improvement it is advised to analyze \n",
      "  the integrand in order to determine the difficulties.  If the position of a \n",
      "  local difficulty can be determined (singularity, discontinuity) one will \n",
      "  probably gain from splitting up the interval and calling the integrator \n",
      "  on the subranges.  Perhaps a special-purpose integrator should be used.\n",
      "  quad_r = quad(f, low, high, args=args, full_output=self.full_output,\n"
     ]
    }
   ],
   "source": [
    "pairs, fhats = get_coefficents(20)\n",
    "Zp = proj_eval(X,Y,pairs,fhats)"
   ]
  },
  {
   "cell_type": "code",
   "execution_count": 7,
   "metadata": {},
   "outputs": [
    {
     "data": {
      "text/plain": [
       "0.8357766028130694"
      ]
     },
     "execution_count": 7,
     "metadata": {},
     "output_type": "execute_result"
    }
   ],
   "source": [
    "np.mean(Zp)"
   ]
  },
  {
   "cell_type": "code",
   "execution_count": 8,
   "metadata": {},
   "outputs": [
    {
     "data": {
      "text/plain": [
       "<matplotlib.colorbar.Colorbar at 0x12666e070>"
      ]
     },
     "execution_count": 8,
     "metadata": {},
     "output_type": "execute_result"
    },
    {
     "data": {
      "image/png": "[encoded data removed]",
      "text/plain": [
       "<Figure size 432x288 with 2 Axes>"
      ]
     },
     "metadata": {
      "needs_background": "light"
     },
     "output_type": "display_data"
    }
   ],
   "source": [
    "plt.contourf(X,Y,Zp)\n",
    "plt.colorbar()"
   ]
  },
  {
   "cell_type": "code",
   "execution_count": 9,
   "metadata": {},
   "outputs": [
    {
     "data": {
      "text/plain": [
       "121.87991829469003"
      ]
     },
     "execution_count": 9,
     "metadata": {},
     "output_type": "execute_result"
    }
   ],
   "source": [
    "pZ = 1/len(X) * np.ones(len(X))\n",
    "pZ = np.multiply(normal_pdf(Y), pZ)\n",
    "sqrd_err = (Zp-Zf)**2\n",
    "wE = np.sqrt(sqrd_err) * pZ\n",
    "np.sum(wE)"
   ]
  },
  {
   "cell_type": "code",
   "execution_count": 12,
   "metadata": {},
   "outputs": [
    {
     "data": {
      "text/plain": [
       "<matplotlib.colorbar.Colorbar at 0x1267fef40>"
      ]
     },
     "execution_count": 12,
     "metadata": {},
     "output_type": "execute_result"
    },
    {
     "data": {
      "image/png": "[encoded data removed]",
      "text/plain": [
       "<Figure size 432x288 with 2 Axes>"
      ]
     },
     "metadata": {
      "needs_background": "light"
     },
     "output_type": "display_data"
    }
   ],
   "source": [
    "plt.contourf(X,Y,wE)\n",
    "plt.colorbar()"
   ]
  },
  {
   "cell_type": "code",
   "execution_count": 10,
   "metadata": {},
   "outputs": [],
   "source": [
    "# use the calculated coesfficents to get the errors for lower orders\n",
    "orders = [0,1,5,10,15,20]\n",
    "errors = []\n",
    "\n",
    "for order in orders:\n",
    "    ord_pairs = get_pairs(order)\n",
    "    ord_fhats = []\n",
    "    for i,pair in enumerate(pairs):\n",
    "        if pair in ord_pairs:\n",
    "            ord_fhats.append(fhats[i])\n",
    "    \n",
    "    Zp = proj_eval(X,Y,ord_pairs,ord_fhats)\n",
    "    sqrd_err = (Zp-Zf)**2\n",
    "    wE = np.sqrt(sqrd_err) * pZ\n",
    "    errors.append(np.mean(np.expand_dims(np.mean(wE, axis=0), axis=0)))"
   ]
  },
  {
   "cell_type": "code",
   "execution_count": 11,
   "metadata": {},
   "outputs": [
    {
     "data": {
      "text/plain": [
       "Text(0, 0.5, 'error')"
      ]
     },
     "execution_count": 11,
     "metadata": {},
     "output_type": "execute_result"
    },
    {
     "data": {
      "image/png": "[encoded data removed]",
      "text/plain": [
       "<Figure size 432x288 with 1 Axes>"
      ]
     },
     "metadata": {
      "needs_background": "light"
     },
     "output_type": "display_data"
    }
   ],
   "source": [
    "plt.plot(orders, errors, '-o')\n",
    "plt.xlabel(\"order\")\n",
    "plt.ylabel(\"error\")"
   ]
  },
  {
   "cell_type": "code",
   "execution_count": null,
   "metadata": {},
   "outputs": [],
   "source": []
  }
 ],
 "metadata": {
  "kernelspec": {
   "display_name": "Python 3 (ipykernel)",
   "language": "python",
   "name": "python3"
  },
  "language_info": {
   "codemirror_mode": {
    "name": "ipython",
    "version": 3
   },
   "file_extension": ".py",
   "mimetype": "text/x-python",
   "name": "python",
   "nbconvert_exporter": "python",
   "pygments_lexer": "ipython3",
   "version": "3.9.12"
  }
 },
 "nbformat": 4,
 "nbformat_minor": 2
}
